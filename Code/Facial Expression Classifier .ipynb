{
 "cells": [
  {
   "cell_type": "code",
   "execution_count": 36,
   "id": "b24c0fe7",
   "metadata": {},
   "outputs": [],
   "source": [
    "import scipy.io\n",
    "import numpy as np\n",
    "import pandas as pd\n",
    "import cv2\n",
    "import glob\n",
    "\n",
    "import matplotlib.pyplot as plt\n",
    "import matplotlib.image as mpimg\n",
    "\n",
    "\n",
    "# Import classifiers\n",
    "from sklearn.svm import SVC\n",
    "from sklearn.ensemble import RandomForestClassifier\n",
    "from sklearn.linear_model import LogisticRegression\n",
    "\n",
    "# metrics contain our plot_confustion_matrix and classification_report\n",
    "from sklearn import metrics\n",
    "\n",
    "# Helper fuction to splitting data\n",
    "from sklearn.model_selection import train_test_split\n",
    "\n"
   ]
  },
  {
   "cell_type": "code",
   "execution_count": 13,
   "id": "491401c6",
   "metadata": {},
   "outputs": [],
   "source": [
    "#importing images with glob \n",
    "\n",
    "#pip install opencv-python\n",
    "import cv2\n",
    "import glob\n",
    "\n",
    "imdir = 'aligned/'\n",
    "\n",
    "files = []\n",
    "[files.extend(glob.glob(imdir + '*.jpg'))] #arbitrary ordering of files \n",
    "files = sorted(files) # to get back file ordering\n",
    "images = [cv2.imread(file) for file in files]\n",
    "\n",
    "\n",
    "files_df = pd.DataFrame(files)\n",
    "\n",
    "files_df.set_axis(['file_name'], axis =1 , inplace = True )\n",
    "\n",
    "replace = ['aligned/', '_aligned' ]\n",
    "\n",
    "files_df['file_name'] = files_df['file_name'].replace(replace , '' , regex = True )\n"
   ]
  },
  {
   "cell_type": "code",
   "execution_count": 14,
   "id": "33a388a1",
   "metadata": {},
   "outputs": [
    {
     "name": "stdout",
     "output_type": "stream",
     "text": [
      "rbg shape: (30000,) gray shape: (10000,)\n"
     ]
    }
   ],
   "source": [
    "import matplotlib.pyplot as plt\n",
    "import matplotlib.image as mpimg\n",
    "\n",
    "cv2.cvtColor(images[0], cv2.COLOR_BGR2GRAY)\n",
    "\n",
    "images_gray = [cv2.cvtColor(images[i], cv2.COLOR_BGR2GRAY) for i in range(len(images)) ]\n",
    "\n",
    "\n",
    "#plt.imshow(images_gray[0], cmap = 'gray') display image \n",
    "\n",
    "print( 'rbg shape:' , images[0].flatten().shape , 'gray shape:', images_gray[0].flatten().shape)\n",
    "\n",
    "flatten_gray = [images_gray[i].flatten() for i in range(len(images_gray))]\n",
    "\n",
    "flatten_df = pd.DataFrame(flatten_gray)\n",
    "\n",
    "flatten_df.insert(0, 'file_name' , files_df)"
   ]
  },
  {
   "cell_type": "code",
   "execution_count": 15,
   "id": "d1b2a1a9",
   "metadata": {},
   "outputs": [],
   "source": [
    "import pandas as pd\n",
    "\n",
    "df_list_patition_label = pd.read_csv(\"list_patition_label.txt\", sep = \" \", header = None) #Reading the file list_partition_label; make sure to have this file in the same folder as the python code file\n",
    "\n",
    "#class_balance = df.groupby(1).nunique()\n",
    "#class_balance.columns = [\"Count\"]\n",
    "#class_balance\n",
    "\n",
    "df_list_patition_label.set_axis(['file_name', 'expressions'], axis =1 , inplace = True )\n"
   ]
  },
  {
   "cell_type": "code",
   "execution_count": 16,
   "id": "c4a0ebf6",
   "metadata": {},
   "outputs": [
    {
     "data": {
      "text/html": [
       "<div>\n",
       "<style scoped>\n",
       "    .dataframe tbody tr th:only-of-type {\n",
       "        vertical-align: middle;\n",
       "    }\n",
       "\n",
       "    .dataframe tbody tr th {\n",
       "        vertical-align: top;\n",
       "    }\n",
       "\n",
       "    .dataframe thead th {\n",
       "        text-align: right;\n",
       "    }\n",
       "</style>\n",
       "<table border=\"1\" class=\"dataframe\">\n",
       "  <thead>\n",
       "    <tr style=\"text-align: right;\">\n",
       "      <th></th>\n",
       "      <th>file_name</th>\n",
       "      <th>expressions</th>\n",
       "      <th>0</th>\n",
       "      <th>1</th>\n",
       "      <th>2</th>\n",
       "      <th>3</th>\n",
       "      <th>4</th>\n",
       "      <th>5</th>\n",
       "      <th>6</th>\n",
       "      <th>7</th>\n",
       "      <th>...</th>\n",
       "      <th>9990</th>\n",
       "      <th>9991</th>\n",
       "      <th>9992</th>\n",
       "      <th>9993</th>\n",
       "      <th>9994</th>\n",
       "      <th>9995</th>\n",
       "      <th>9996</th>\n",
       "      <th>9997</th>\n",
       "      <th>9998</th>\n",
       "      <th>9999</th>\n",
       "    </tr>\n",
       "  </thead>\n",
       "  <tbody>\n",
       "    <tr>\n",
       "      <th>0</th>\n",
       "      <td>train_00001.jpg</td>\n",
       "      <td>5</td>\n",
       "      <td>71</td>\n",
       "      <td>101</td>\n",
       "      <td>74</td>\n",
       "      <td>66</td>\n",
       "      <td>82</td>\n",
       "      <td>55</td>\n",
       "      <td>84</td>\n",
       "      <td>50</td>\n",
       "      <td>...</td>\n",
       "      <td>173</td>\n",
       "      <td>174</td>\n",
       "      <td>174</td>\n",
       "      <td>173</td>\n",
       "      <td>173</td>\n",
       "      <td>172</td>\n",
       "      <td>173</td>\n",
       "      <td>175</td>\n",
       "      <td>177</td>\n",
       "      <td>177</td>\n",
       "    </tr>\n",
       "    <tr>\n",
       "      <th>1</th>\n",
       "      <td>train_00002.jpg</td>\n",
       "      <td>5</td>\n",
       "      <td>11</td>\n",
       "      <td>11</td>\n",
       "      <td>37</td>\n",
       "      <td>1</td>\n",
       "      <td>12</td>\n",
       "      <td>27</td>\n",
       "      <td>32</td>\n",
       "      <td>35</td>\n",
       "      <td>...</td>\n",
       "      <td>31</td>\n",
       "      <td>33</td>\n",
       "      <td>17</td>\n",
       "      <td>17</td>\n",
       "      <td>18</td>\n",
       "      <td>24</td>\n",
       "      <td>10</td>\n",
       "      <td>13</td>\n",
       "      <td>18</td>\n",
       "      <td>23</td>\n",
       "    </tr>\n",
       "    <tr>\n",
       "      <th>2</th>\n",
       "      <td>train_00003.jpg</td>\n",
       "      <td>4</td>\n",
       "      <td>9</td>\n",
       "      <td>13</td>\n",
       "      <td>14</td>\n",
       "      <td>14</td>\n",
       "      <td>22</td>\n",
       "      <td>32</td>\n",
       "      <td>30</td>\n",
       "      <td>20</td>\n",
       "      <td>...</td>\n",
       "      <td>215</td>\n",
       "      <td>215</td>\n",
       "      <td>215</td>\n",
       "      <td>215</td>\n",
       "      <td>215</td>\n",
       "      <td>215</td>\n",
       "      <td>213</td>\n",
       "      <td>213</td>\n",
       "      <td>213</td>\n",
       "      <td>212</td>\n",
       "    </tr>\n",
       "    <tr>\n",
       "      <th>3</th>\n",
       "      <td>train_00004.jpg</td>\n",
       "      <td>4</td>\n",
       "      <td>50</td>\n",
       "      <td>33</td>\n",
       "      <td>17</td>\n",
       "      <td>20</td>\n",
       "      <td>36</td>\n",
       "      <td>50</td>\n",
       "      <td>50</td>\n",
       "      <td>45</td>\n",
       "      <td>...</td>\n",
       "      <td>224</td>\n",
       "      <td>222</td>\n",
       "      <td>219</td>\n",
       "      <td>215</td>\n",
       "      <td>213</td>\n",
       "      <td>212</td>\n",
       "      <td>213</td>\n",
       "      <td>211</td>\n",
       "      <td>207</td>\n",
       "      <td>204</td>\n",
       "    </tr>\n",
       "    <tr>\n",
       "      <th>4</th>\n",
       "      <td>train_00005.jpg</td>\n",
       "      <td>5</td>\n",
       "      <td>23</td>\n",
       "      <td>20</td>\n",
       "      <td>21</td>\n",
       "      <td>29</td>\n",
       "      <td>39</td>\n",
       "      <td>43</td>\n",
       "      <td>38</td>\n",
       "      <td>30</td>\n",
       "      <td>...</td>\n",
       "      <td>52</td>\n",
       "      <td>64</td>\n",
       "      <td>79</td>\n",
       "      <td>103</td>\n",
       "      <td>165</td>\n",
       "      <td>208</td>\n",
       "      <td>227</td>\n",
       "      <td>160</td>\n",
       "      <td>159</td>\n",
       "      <td>177</td>\n",
       "    </tr>\n",
       "    <tr>\n",
       "      <th>...</th>\n",
       "      <td>...</td>\n",
       "      <td>...</td>\n",
       "      <td>...</td>\n",
       "      <td>...</td>\n",
       "      <td>...</td>\n",
       "      <td>...</td>\n",
       "      <td>...</td>\n",
       "      <td>...</td>\n",
       "      <td>...</td>\n",
       "      <td>...</td>\n",
       "      <td>...</td>\n",
       "      <td>...</td>\n",
       "      <td>...</td>\n",
       "      <td>...</td>\n",
       "      <td>...</td>\n",
       "      <td>...</td>\n",
       "      <td>...</td>\n",
       "      <td>...</td>\n",
       "      <td>...</td>\n",
       "      <td>...</td>\n",
       "      <td>...</td>\n",
       "    </tr>\n",
       "    <tr>\n",
       "      <th>15334</th>\n",
       "      <td>test_3064.jpg</td>\n",
       "      <td>7</td>\n",
       "      <td>145</td>\n",
       "      <td>93</td>\n",
       "      <td>103</td>\n",
       "      <td>116</td>\n",
       "      <td>94</td>\n",
       "      <td>90</td>\n",
       "      <td>106</td>\n",
       "      <td>129</td>\n",
       "      <td>...</td>\n",
       "      <td>73</td>\n",
       "      <td>85</td>\n",
       "      <td>80</td>\n",
       "      <td>56</td>\n",
       "      <td>32</td>\n",
       "      <td>20</td>\n",
       "      <td>34</td>\n",
       "      <td>43</td>\n",
       "      <td>51</td>\n",
       "      <td>47</td>\n",
       "    </tr>\n",
       "    <tr>\n",
       "      <th>15335</th>\n",
       "      <td>test_3065.jpg</td>\n",
       "      <td>7</td>\n",
       "      <td>97</td>\n",
       "      <td>99</td>\n",
       "      <td>120</td>\n",
       "      <td>153</td>\n",
       "      <td>170</td>\n",
       "      <td>168</td>\n",
       "      <td>172</td>\n",
       "      <td>184</td>\n",
       "      <td>...</td>\n",
       "      <td>60</td>\n",
       "      <td>76</td>\n",
       "      <td>77</td>\n",
       "      <td>70</td>\n",
       "      <td>73</td>\n",
       "      <td>80</td>\n",
       "      <td>85</td>\n",
       "      <td>83</td>\n",
       "      <td>76</td>\n",
       "      <td>68</td>\n",
       "    </tr>\n",
       "    <tr>\n",
       "      <th>15336</th>\n",
       "      <td>test_3066.jpg</td>\n",
       "      <td>7</td>\n",
       "      <td>49</td>\n",
       "      <td>47</td>\n",
       "      <td>49</td>\n",
       "      <td>54</td>\n",
       "      <td>61</td>\n",
       "      <td>65</td>\n",
       "      <td>63</td>\n",
       "      <td>60</td>\n",
       "      <td>...</td>\n",
       "      <td>38</td>\n",
       "      <td>40</td>\n",
       "      <td>42</td>\n",
       "      <td>42</td>\n",
       "      <td>40</td>\n",
       "      <td>37</td>\n",
       "      <td>35</td>\n",
       "      <td>37</td>\n",
       "      <td>39</td>\n",
       "      <td>42</td>\n",
       "    </tr>\n",
       "    <tr>\n",
       "      <th>15337</th>\n",
       "      <td>test_3067.jpg</td>\n",
       "      <td>7</td>\n",
       "      <td>146</td>\n",
       "      <td>148</td>\n",
       "      <td>149</td>\n",
       "      <td>150</td>\n",
       "      <td>150</td>\n",
       "      <td>152</td>\n",
       "      <td>155</td>\n",
       "      <td>158</td>\n",
       "      <td>...</td>\n",
       "      <td>119</td>\n",
       "      <td>121</td>\n",
       "      <td>123</td>\n",
       "      <td>125</td>\n",
       "      <td>128</td>\n",
       "      <td>131</td>\n",
       "      <td>130</td>\n",
       "      <td>130</td>\n",
       "      <td>129</td>\n",
       "      <td>129</td>\n",
       "    </tr>\n",
       "    <tr>\n",
       "      <th>15338</th>\n",
       "      <td>test_3068.jpg</td>\n",
       "      <td>7</td>\n",
       "      <td>149</td>\n",
       "      <td>146</td>\n",
       "      <td>141</td>\n",
       "      <td>138</td>\n",
       "      <td>137</td>\n",
       "      <td>139</td>\n",
       "      <td>143</td>\n",
       "      <td>146</td>\n",
       "      <td>...</td>\n",
       "      <td>194</td>\n",
       "      <td>195</td>\n",
       "      <td>192</td>\n",
       "      <td>182</td>\n",
       "      <td>167</td>\n",
       "      <td>155</td>\n",
       "      <td>157</td>\n",
       "      <td>155</td>\n",
       "      <td>152</td>\n",
       "      <td>148</td>\n",
       "    </tr>\n",
       "  </tbody>\n",
       "</table>\n",
       "<p>15339 rows × 10002 columns</p>\n",
       "</div>"
      ],
      "text/plain": [
       "             file_name  expressions    0    1    2    3    4    5    6    7  \\\n",
       "0      train_00001.jpg            5   71  101   74   66   82   55   84   50   \n",
       "1      train_00002.jpg            5   11   11   37    1   12   27   32   35   \n",
       "2      train_00003.jpg            4    9   13   14   14   22   32   30   20   \n",
       "3      train_00004.jpg            4   50   33   17   20   36   50   50   45   \n",
       "4      train_00005.jpg            5   23   20   21   29   39   43   38   30   \n",
       "...                ...          ...  ...  ...  ...  ...  ...  ...  ...  ...   \n",
       "15334    test_3064.jpg            7  145   93  103  116   94   90  106  129   \n",
       "15335    test_3065.jpg            7   97   99  120  153  170  168  172  184   \n",
       "15336    test_3066.jpg            7   49   47   49   54   61   65   63   60   \n",
       "15337    test_3067.jpg            7  146  148  149  150  150  152  155  158   \n",
       "15338    test_3068.jpg            7  149  146  141  138  137  139  143  146   \n",
       "\n",
       "       ...  9990  9991  9992  9993  9994  9995  9996  9997  9998  9999  \n",
       "0      ...   173   174   174   173   173   172   173   175   177   177  \n",
       "1      ...    31    33    17    17    18    24    10    13    18    23  \n",
       "2      ...   215   215   215   215   215   215   213   213   213   212  \n",
       "3      ...   224   222   219   215   213   212   213   211   207   204  \n",
       "4      ...    52    64    79   103   165   208   227   160   159   177  \n",
       "...    ...   ...   ...   ...   ...   ...   ...   ...   ...   ...   ...  \n",
       "15334  ...    73    85    80    56    32    20    34    43    51    47  \n",
       "15335  ...    60    76    77    70    73    80    85    83    76    68  \n",
       "15336  ...    38    40    42    42    40    37    35    37    39    42  \n",
       "15337  ...   119   121   123   125   128   131   130   130   129   129  \n",
       "15338  ...   194   195   192   182   167   155   157   155   152   148  \n",
       "\n",
       "[15339 rows x 10002 columns]"
      ]
     },
     "execution_count": 16,
     "metadata": {},
     "output_type": "execute_result"
    }
   ],
   "source": [
    "result = pd.merge(df_list_patition_label, flatten_df , on='file_name')\n",
    "\n",
    "result"
   ]
  },
  {
   "cell_type": "code",
   "execution_count": 17,
   "id": "edc3147d",
   "metadata": {},
   "outputs": [],
   "source": [
    "result.to_csv(r'Facial_Expression_DF.csv', index = False)"
   ]
  },
  {
   "cell_type": "code",
   "execution_count": 18,
   "id": "290fa157",
   "metadata": {
    "scrolled": true
   },
   "outputs": [
    {
     "data": {
      "text/html": [
       "<div>\n",
       "<style scoped>\n",
       "    .dataframe tbody tr th:only-of-type {\n",
       "        vertical-align: middle;\n",
       "    }\n",
       "\n",
       "    .dataframe tbody tr th {\n",
       "        vertical-align: top;\n",
       "    }\n",
       "\n",
       "    .dataframe thead th {\n",
       "        text-align: right;\n",
       "    }\n",
       "</style>\n",
       "<table border=\"1\" class=\"dataframe\">\n",
       "  <thead>\n",
       "    <tr style=\"text-align: right;\">\n",
       "      <th></th>\n",
       "      <th>file_name</th>\n",
       "      <th>expressions</th>\n",
       "      <th>0</th>\n",
       "      <th>1</th>\n",
       "      <th>2</th>\n",
       "      <th>3</th>\n",
       "      <th>4</th>\n",
       "      <th>5</th>\n",
       "      <th>6</th>\n",
       "      <th>7</th>\n",
       "      <th>...</th>\n",
       "      <th>9990</th>\n",
       "      <th>9991</th>\n",
       "      <th>9992</th>\n",
       "      <th>9993</th>\n",
       "      <th>9994</th>\n",
       "      <th>9995</th>\n",
       "      <th>9996</th>\n",
       "      <th>9997</th>\n",
       "      <th>9998</th>\n",
       "      <th>9999</th>\n",
       "    </tr>\n",
       "  </thead>\n",
       "  <tbody>\n",
       "    <tr>\n",
       "      <th>0</th>\n",
       "      <td>train_00001.jpg</td>\n",
       "      <td>5</td>\n",
       "      <td>71</td>\n",
       "      <td>101</td>\n",
       "      <td>74</td>\n",
       "      <td>66</td>\n",
       "      <td>82</td>\n",
       "      <td>55</td>\n",
       "      <td>84</td>\n",
       "      <td>50</td>\n",
       "      <td>...</td>\n",
       "      <td>173</td>\n",
       "      <td>174</td>\n",
       "      <td>174</td>\n",
       "      <td>173</td>\n",
       "      <td>173</td>\n",
       "      <td>172</td>\n",
       "      <td>173</td>\n",
       "      <td>175</td>\n",
       "      <td>177</td>\n",
       "      <td>177</td>\n",
       "    </tr>\n",
       "    <tr>\n",
       "      <th>1</th>\n",
       "      <td>train_00002.jpg</td>\n",
       "      <td>5</td>\n",
       "      <td>11</td>\n",
       "      <td>11</td>\n",
       "      <td>37</td>\n",
       "      <td>1</td>\n",
       "      <td>12</td>\n",
       "      <td>27</td>\n",
       "      <td>32</td>\n",
       "      <td>35</td>\n",
       "      <td>...</td>\n",
       "      <td>31</td>\n",
       "      <td>33</td>\n",
       "      <td>17</td>\n",
       "      <td>17</td>\n",
       "      <td>18</td>\n",
       "      <td>24</td>\n",
       "      <td>10</td>\n",
       "      <td>13</td>\n",
       "      <td>18</td>\n",
       "      <td>23</td>\n",
       "    </tr>\n",
       "    <tr>\n",
       "      <th>2</th>\n",
       "      <td>train_00003.jpg</td>\n",
       "      <td>4</td>\n",
       "      <td>9</td>\n",
       "      <td>13</td>\n",
       "      <td>14</td>\n",
       "      <td>14</td>\n",
       "      <td>22</td>\n",
       "      <td>32</td>\n",
       "      <td>30</td>\n",
       "      <td>20</td>\n",
       "      <td>...</td>\n",
       "      <td>215</td>\n",
       "      <td>215</td>\n",
       "      <td>215</td>\n",
       "      <td>215</td>\n",
       "      <td>215</td>\n",
       "      <td>215</td>\n",
       "      <td>213</td>\n",
       "      <td>213</td>\n",
       "      <td>213</td>\n",
       "      <td>212</td>\n",
       "    </tr>\n",
       "    <tr>\n",
       "      <th>3</th>\n",
       "      <td>train_00004.jpg</td>\n",
       "      <td>4</td>\n",
       "      <td>50</td>\n",
       "      <td>33</td>\n",
       "      <td>17</td>\n",
       "      <td>20</td>\n",
       "      <td>36</td>\n",
       "      <td>50</td>\n",
       "      <td>50</td>\n",
       "      <td>45</td>\n",
       "      <td>...</td>\n",
       "      <td>224</td>\n",
       "      <td>222</td>\n",
       "      <td>219</td>\n",
       "      <td>215</td>\n",
       "      <td>213</td>\n",
       "      <td>212</td>\n",
       "      <td>213</td>\n",
       "      <td>211</td>\n",
       "      <td>207</td>\n",
       "      <td>204</td>\n",
       "    </tr>\n",
       "    <tr>\n",
       "      <th>4</th>\n",
       "      <td>train_00005.jpg</td>\n",
       "      <td>5</td>\n",
       "      <td>23</td>\n",
       "      <td>20</td>\n",
       "      <td>21</td>\n",
       "      <td>29</td>\n",
       "      <td>39</td>\n",
       "      <td>43</td>\n",
       "      <td>38</td>\n",
       "      <td>30</td>\n",
       "      <td>...</td>\n",
       "      <td>52</td>\n",
       "      <td>64</td>\n",
       "      <td>79</td>\n",
       "      <td>103</td>\n",
       "      <td>165</td>\n",
       "      <td>208</td>\n",
       "      <td>227</td>\n",
       "      <td>160</td>\n",
       "      <td>159</td>\n",
       "      <td>177</td>\n",
       "    </tr>\n",
       "  </tbody>\n",
       "</table>\n",
       "<p>5 rows × 10002 columns</p>\n",
       "</div>"
      ],
      "text/plain": [
       "         file_name  expressions   0    1   2   3   4   5   6   7  ...  9990  \\\n",
       "0  train_00001.jpg            5  71  101  74  66  82  55  84  50  ...   173   \n",
       "1  train_00002.jpg            5  11   11  37   1  12  27  32  35  ...    31   \n",
       "2  train_00003.jpg            4   9   13  14  14  22  32  30  20  ...   215   \n",
       "3  train_00004.jpg            4  50   33  17  20  36  50  50  45  ...   224   \n",
       "4  train_00005.jpg            5  23   20  21  29  39  43  38  30  ...    52   \n",
       "\n",
       "   9991  9992  9993  9994  9995  9996  9997  9998  9999  \n",
       "0   174   174   173   173   172   173   175   177   177  \n",
       "1    33    17    17    18    24    10    13    18    23  \n",
       "2   215   215   215   215   215   213   213   213   212  \n",
       "3   222   219   215   213   212   213   211   207   204  \n",
       "4    64    79   103   165   208   227   160   159   177  \n",
       "\n",
       "[5 rows x 10002 columns]"
      ]
     },
     "execution_count": 18,
     "metadata": {},
     "output_type": "execute_result"
    }
   ],
   "source": [
    "df = pd.read_csv('Facial_Expression_DF.csv')\n",
    "\n",
    "df.head()"
   ]
  },
  {
   "cell_type": "code",
   "execution_count": 19,
   "id": "e99f21b1",
   "metadata": {},
   "outputs": [
    {
     "data": {
      "text/plain": [
       "0"
      ]
     },
     "execution_count": 19,
     "metadata": {},
     "output_type": "execute_result"
    }
   ],
   "source": [
    "#check for nulls\n",
    "df.isnull().sum().sum()"
   ]
  },
  {
   "cell_type": "code",
   "execution_count": 20,
   "id": "c0e4e16d",
   "metadata": {},
   "outputs": [
    {
     "data": {
      "text/plain": [
       "0"
      ]
     },
     "execution_count": 20,
     "metadata": {},
     "output_type": "execute_result"
    }
   ],
   "source": [
    "#check for dups\n",
    "df.duplicated().sum()"
   ]
  },
  {
   "cell_type": "markdown",
   "id": "70faefe8",
   "metadata": {},
   "source": [
    "#### Expressions Classes \n",
    "\n",
    "surprise = 1, fear = 2 , disgust = 3 , happiness = 4 , sadness = 5 , anger = 6 and neutral = 7"
   ]
  },
  {
   "cell_type": "code",
   "execution_count": 22,
   "id": "9e722986",
   "metadata": {
    "scrolled": true
   },
   "outputs": [
    {
     "data": {
      "text/plain": [
       "(4    5957\n",
       " 7    3204\n",
       " 5    2460\n",
       " 1    1619\n",
       " 3     877\n",
       " 6     867\n",
       " 2     355\n",
       " Name: expressions, dtype: int64,\n",
       " 4    0.388356\n",
       " 7    0.208879\n",
       " 5    0.160376\n",
       " 1    0.105548\n",
       " 3    0.057175\n",
       " 6    0.056523\n",
       " 2    0.023144\n",
       " Name: expressions, dtype: float64)"
      ]
     },
     "execution_count": 22,
     "metadata": {},
     "output_type": "execute_result"
    }
   ],
   "source": [
    "#class balance \n",
    "df.expressions.value_counts(), df.expressions.value_counts(normalize=True)"
   ]
  },
  {
   "cell_type": "code",
   "execution_count": 31,
   "id": "084b20bd",
   "metadata": {},
   "outputs": [],
   "source": [
    "#Feature Engineering \n",
    "\n",
    "selected_features = df.columns\n",
    "# print(type(selected_features)) = <class 'pandas.core.indexes.base.Index'>\n",
    "selected_features = list(selected_features) # a list of all the cols\n",
    "\n",
    "#selected_features = Sanity check\n",
    "\n",
    "#remove the file_name and the expressions col (our y value)\n",
    "\n",
    "remove_feature = ['file_name', 'expressions' ]\n",
    "selected_features.remove('file_name')\n",
    "selected_features.remove('expressions')\n",
    "\n",
    "# selected_features #0-999 pixels of the image"
   ]
  },
  {
   "cell_type": "code",
   "execution_count": 32,
   "id": "edc7b220",
   "metadata": {},
   "outputs": [],
   "source": [
    "# define x and y \n",
    "\n",
    "X = df[selected_features]\n",
    "\n",
    "y = df['expressions']\n"
   ]
  },
  {
   "cell_type": "code",
   "execution_count": 37,
   "id": "c2723ef5",
   "metadata": {},
   "outputs": [],
   "source": [
    "#train and test slips \n",
    "\n",
    "X_train, X_test, y_train, y_test = train_test_split(X, y, test_size=0.25)"
   ]
  },
  {
   "cell_type": "code",
   "execution_count": 38,
   "id": "71d2a091",
   "metadata": {},
   "outputs": [],
   "source": [
    "#build and train the model\n",
    "\n",
    "from sklearn import svm\n",
    "\n",
    "# Initalize our Support Vector Classifier\n",
    "model = svm.SVC()"
   ]
  },
  {
   "cell_type": "code",
   "execution_count": 39,
   "id": "559e9437",
   "metadata": {},
   "outputs": [
    {
     "data": {
      "text/plain": [
       "SVC()"
      ]
     },
     "execution_count": 39,
     "metadata": {},
     "output_type": "execute_result"
    }
   ],
   "source": [
    "#fit the model\n",
    "\n",
    "model.fit(X_train, y_train)"
   ]
  },
  {
   "cell_type": "code",
   "execution_count": 44,
   "id": "3b594454",
   "metadata": {},
   "outputs": [
    {
     "name": "stdout",
     "output_type": "stream",
     "text": [
      "Accuracy 0.658149\n"
     ]
    }
   ],
   "source": [
    "accuracy = model.score(X_test, y_test)\n",
    "print(\"Accuracy %f\" % accuracy)"
   ]
  },
  {
   "cell_type": "code",
   "execution_count": 40,
   "id": "5ed72bca",
   "metadata": {},
   "outputs": [],
   "source": [
    "y_pred = model.predict(X_test)\n"
   ]
  },
  {
   "cell_type": "code",
   "execution_count": 41,
   "id": "7c7b96de",
   "metadata": {},
   "outputs": [
    {
     "name": "stdout",
     "output_type": "stream",
     "text": [
      "              precision    recall  f1-score   support\n",
      "\n",
      "           1       0.76      0.55      0.64       404\n",
      "           2       0.84      0.20      0.32        81\n",
      "           3       0.47      0.04      0.07       206\n",
      "           4       0.73      0.91      0.81      1469\n",
      "           5       0.59      0.42      0.49       621\n",
      "           6       0.67      0.32      0.43       219\n",
      "           7       0.54      0.74      0.63       835\n",
      "\n",
      "    accuracy                           0.66      3835\n",
      "   macro avg       0.66      0.45      0.48      3835\n",
      "weighted avg       0.65      0.66      0.63      3835\n",
      "\n"
     ]
    }
   ],
   "source": [
    "print(metrics.classification_report(y_test, y_pred))"
   ]
  },
  {
   "cell_type": "code",
   "execution_count": 43,
   "id": "44b5d662",
   "metadata": {},
   "outputs": [
    {
     "data": {
      "text/plain": [
       "<sklearn.metrics._plot.confusion_matrix.ConfusionMatrixDisplay at 0x7fce9c4a30a0>"
      ]
     },
     "execution_count": 43,
     "metadata": {},
     "output_type": "execute_result"
    },
    {
     "data": {
      "image/png": "[encoded data removed]",
      "text/plain": [
       "<Figure size 936x936 with 2 Axes>"
      ]
     },
     "metadata": {
      "needs_background": "light"
     },
     "output_type": "display_data"
    }
   ],
   "source": [
    "fig, ax = plt.subplots(figsize=(13,13))\n",
    "metrics.plot_confusion_matrix(estimator=model, \n",
    "                              X=X_test, \n",
    "                              y_true=y_test, \n",
    "                              ax=ax)"
   ]
  },
  {
   "cell_type": "code",
   "execution_count": 46,
   "id": "fef23be4",
   "metadata": {},
   "outputs": [],
   "source": [
    "def build_and_eval_model(model, X, y, random_state=23):\n",
    "    print(\"Running report for model\", model)\n",
    "\n",
    "    X_train, X_test, y_train, y_test = train_test_split(\n",
    "        X, y, test_size=0.25, random_state=random_state)    \n",
    "    \n",
    "    # Fit our model.\n",
    "    model.fit(X_train, y_train)\n",
    "    \n",
    "    # Get the accuracy\n",
    "    accuracy = model.score(X_test, y_test)\n",
    "    print(\"\\n\\nAccuracy %f\" % accuracy)\n",
    "    \n",
    "    \n",
    "    # Make new predictions\n",
    "    y_pred = model.predict(X_test)\n",
    "    \n",
    "    \n",
    "    # Print the classification report. \n",
    "    print(metrics.classification_report(y_test, y_pred))\n",
    "    \n",
    "        \n",
    "    # Plot the confusion matrix\n",
    "    fig, ax = plt.subplots(figsize=(13,13))\n",
    "    \n",
    "    metrics.plot_confusion_matrix(estimator=model, \n",
    "                                  X=X_test, \n",
    "                                  y_true=y_test, \n",
    "                                  ax=ax)\n",
    "\n",
    "    # Return the fitted model. \n",
    "    return model"
   ]
  },
  {
   "cell_type": "code",
   "execution_count": 47,
   "id": "161891e8",
   "metadata": {},
   "outputs": [
    {
     "name": "stdout",
     "output_type": "stream",
     "text": [
      "Running report for model RandomForestClassifier()\n",
      "\n",
      "\n",
      "Accuracy 0.602868\n",
      "              precision    recall  f1-score   support\n",
      "\n",
      "           1       0.68      0.36      0.47       397\n",
      "           2       0.86      0.16      0.27        75\n",
      "           3       0.70      0.03      0.06       224\n",
      "           4       0.68      0.89      0.77      1550\n",
      "           5       0.47      0.31      0.37       595\n",
      "           6       0.70      0.11      0.19       193\n",
      "           7       0.50      0.71      0.59       801\n",
      "\n",
      "    accuracy                           0.60      3835\n",
      "   macro avg       0.65      0.37      0.39      3835\n",
      "weighted avg       0.61      0.60      0.56      3835\n",
      "\n"
     ]
    },
    {
     "data": {
      "text/plain": [
       "RandomForestClassifier()"
      ]
     },
     "execution_count": 47,
     "metadata": {},
     "output_type": "execute_result"
    },
    {
     "data": {
      "image/png": "[encoded data removed]",
      "text/plain": [
       "<Figure size 936x936 with 2 Axes>"
      ]
     },
     "metadata": {
      "needs_background": "light"
     },
     "output_type": "display_data"
    }
   ],
   "source": [
    "rf = RandomForestClassifier()\n",
    "\n",
    "build_and_eval_model(rf, X, y)"
   ]
  },
  {
   "cell_type": "code",
   "execution_count": 48,
   "id": "2013a62c",
   "metadata": {},
   "outputs": [
    {
     "name": "stdout",
     "output_type": "stream",
     "text": [
      "Running report for model MultinomialNB()\n",
      "\n",
      "\n",
      "Accuracy 0.299609\n",
      "              precision    recall  f1-score   support\n",
      "\n",
      "           1       0.43      0.26      0.32       397\n",
      "           2       0.04      0.52      0.07        75\n",
      "           3       0.14      0.14      0.14       224\n",
      "           4       0.72      0.35      0.47      1550\n",
      "           5       0.26      0.34      0.29       595\n",
      "           6       0.15      0.28      0.20       193\n",
      "           7       0.37      0.23      0.28       801\n",
      "\n",
      "    accuracy                           0.30      3835\n",
      "   macro avg       0.30      0.30      0.25      3835\n",
      "weighted avg       0.47      0.30      0.35      3835\n",
      "\n"
     ]
    },
    {
     "data": {
      "text/plain": [
       "MultinomialNB()"
      ]
     },
     "execution_count": 48,
     "metadata": {},
     "output_type": "execute_result"
    },
    {
     "data": {
      "image/png": "[encoded data removed]",
      "text/plain": [
       "<Figure size 936x936 with 2 Axes>"
      ]
     },
     "metadata": {
      "needs_background": "light"
     },
     "output_type": "display_data"
    }
   ],
   "source": [
    "from sklearn.naive_bayes import MultinomialNB\n",
    "mnb = MultinomialNB()\n",
    "build_and_eval_model(mnb, X, y)"
   ]
  },
  {
   "cell_type": "code",
   "execution_count": 49,
   "id": "d544f1cd",
   "metadata": {},
   "outputs": [
    {
     "name": "stdout",
     "output_type": "stream",
     "text": [
      "Running report for model SVC()\n",
      "\n",
      "\n",
      "Accuracy 0.652934\n",
      "              precision    recall  f1-score   support\n",
      "\n",
      "           1       0.71      0.49      0.58       397\n",
      "           2       0.84      0.21      0.34        75\n",
      "           3       0.68      0.07      0.12       224\n",
      "           4       0.74      0.89      0.81      1550\n",
      "           5       0.56      0.41      0.48       595\n",
      "           6       0.57      0.28      0.38       193\n",
      "           7       0.53      0.74      0.62       801\n",
      "\n",
      "    accuracy                           0.65      3835\n",
      "   macro avg       0.66      0.44      0.47      3835\n",
      "weighted avg       0.66      0.65      0.62      3835\n",
      "\n"
     ]
    },
    {
     "data": {
      "text/plain": [
       "SVC()"
      ]
     },
     "execution_count": 49,
     "metadata": {},
     "output_type": "execute_result"
    },
    {
     "data": {
      "image/png": "[encoded data removed]",
      "text/plain": [
       "<Figure size 936x936 with 2 Axes>"
      ]
     },
     "metadata": {
      "needs_background": "light"
     },
     "output_type": "display_data"
    }
   ],
   "source": [
    "svm = svm.SVC()\n",
    "build_and_eval_model(svm, X, y)\n"
   ]
  },
  {
   "cell_type": "code",
   "execution_count": null,
   "id": "8c37a99e",
   "metadata": {},
   "outputs": [],
   "source": [
    "lr = LogisticRegression()\n",
    "build_and_eval_model(lr, X, y)\n"
   ]
  },
  {
   "cell_type": "code",
   "execution_count": null,
   "id": "d62d900b",
   "metadata": {},
   "outputs": [],
   "source": [
    "lsvc = svm.LinearSVC()\n",
    "\n",
    "build_and_eval_model(lsvc, X, y)"
   ]
  },
  {
   "cell_type": "code",
   "execution_count": null,
   "id": "6655a72a",
   "metadata": {},
   "outputs": [],
   "source": [
    "# extra features from mathlab files \n",
    "\n",
    "HOG = scipy.io.loadmat('HOG.mat') \n",
    "DLP_CNN = scipy.io.loadmat('DLP-CNN.mat')\n",
    "baseDCNN = scipy.io.loadmat('baseDCNN.mat')\n",
    "Gabor = scipy.io.loadmat('Gabor.mat') \n",
    "\n",
    "\n",
    "Gabor_train = pd.DataFrame(Gabor['GAB_train'])\n",
    "Gabor_train\n",
    "\n",
    "Gabor_test = pd.DataFrame(Gabor['GAB_test'])\n",
    "Gabor_test\n",
    "\n",
    "baseDCNN_train = pd.DataFrame(baseDCNN['baseDCNN_train'])\n",
    "baseDCNN_train\n",
    "\n",
    "baseDCNN_test = pd.DataFrame(baseDCNN['baseDCNN_test'])\n",
    "baseDCNN_tes\n",
    "\n",
    "HOG_train = pd.DataFrame(HOG['HOG_train'])\n",
    "HOG_train\n",
    "\n",
    "HOG_test = pd.DataFrame(HOG['HOG_test'])\n",
    "HOG_test\n",
    "\n",
    "DLP_CNN_train = pd.DataFrame(DLP_CNN['DLP_train'])\n",
    "DLP_CNN_train\n",
    "\n",
    "DLP_CNN_test = pd.DataFrame(DLP_CNN['DLP_test'])\n",
    "DLP_CNN_test\n",
    "\n"
   ]
  },
  {
   "cell_type": "code",
   "execution_count": null,
   "id": "48cd2143",
   "metadata": {},
   "outputs": [],
   "source": []
  },
  {
   "cell_type": "code",
   "execution_count": null,
   "id": "678624dc",
   "metadata": {},
   "outputs": [],
   "source": []
  },
  {
   "cell_type": "code",
   "execution_count": null,
   "id": "0209f259",
   "metadata": {},
   "outputs": [],
   "source": []
  },
  {
   "cell_type": "code",
   "execution_count": null,
   "id": "ea10a9e2",
   "metadata": {},
   "outputs": [],
   "source": []
  }
 ],
 "metadata": {
  "kernelspec": {
   "display_name": "Python 3",
   "language": "python",
   "name": "python3"
  },
  "language_info": {
   "codemirror_mode": {
    "name": "ipython",
    "version": 3
   },
   "file_extension": ".py",
   "mimetype": "text/x-python",
   "name": "python",
   "nbconvert_exporter": "python",
   "pygments_lexer": "ipython3",
   "version": "3.8.8"
  }
 },
 "nbformat": 4,
 "nbformat_minor": 5
}
