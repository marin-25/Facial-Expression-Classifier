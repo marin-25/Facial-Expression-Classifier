{
 "cells": [
  {
   "cell_type": "code",
   "execution_count": null,
   "id": "b24c0fe7",
   "metadata": {
    "id": "b24c0fe7",
    "outputId": "8c858029-8a3a-498e-8da7-e474c0e88285"
   },
   "outputs": [
    {
     "name": "stdout",
     "output_type": "stream",
     "text": [
      "Requirement already satisfied: opencv-python in c:\\users\\laptop\\anaconda3\\lib\\site-packages (4.5.4.58)\n",
      "Requirement already satisfied: numpy>=1.19.3 in c:\\users\\laptop\\anaconda3\\lib\\site-packages (from opencv-python) (1.20.3)\n"
     ]
    }
   ],
   "source": [
    "import scipy.io\n",
    "import numpy as np\n",
    "import pandas as pd\n",
    "\n",
    "!pip install opencv-python\n",
    "import cv2\n",
    "\n",
    "import glob\n",
    "\n",
    "import matplotlib.pyplot as plt\n",
    "import matplotlib.image as mpimg\n",
    "\n",
    "\n",
    "# Import classifiers\n",
    "from sklearn import svm\n",
    "from sklearn.svm import SVC\n",
    "\n",
    "from sklearn.ensemble import RandomForestClassifier\n",
    "from sklearn.linear_model import LogisticRegression\n",
    "from sklearn.naive_bayes import MultinomialNB\n",
    "# metrics contain our plot_confustion_matrix and classification_report\n",
    "from sklearn import metrics\n",
    "\n",
    "# Helper fuction to splitting data\n",
    "from sklearn.model_selection import train_test_split\n",
    "\n"
   ]
  },
  {
   "cell_type": "code",
   "execution_count": null,
   "id": "edc3147d",
   "metadata": {
    "id": "edc3147d"
   },
   "outputs": [],
   "source": [
    "#result.to_csv(r'Facial_Expression_DF.csv', index = False)"
   ]
  },
  {
   "cell_type": "code",
   "execution_count": null,
   "id": "290fa157",
   "metadata": {
    "id": "290fa157",
    "outputId": "7fc15464-ab76-4eab-cb30-2c55d155c1b3",
    "scrolled": true
   },
   "outputs": [
    {
     "data": {
      "text/html": [
       "<div>\n",
       "<style scoped>\n",
       "    .dataframe tbody tr th:only-of-type {\n",
       "        vertical-align: middle;\n",
       "    }\n",
       "\n",
       "    .dataframe tbody tr th {\n",
       "        vertical-align: top;\n",
       "    }\n",
       "\n",
       "    .dataframe thead th {\n",
       "        text-align: right;\n",
       "    }\n",
       "</style>\n",
       "<table border=\"1\" class=\"dataframe\">\n",
       "  <thead>\n",
       "    <tr style=\"text-align: right;\">\n",
       "      <th></th>\n",
       "      <th>expressions</th>\n",
       "      <th>0</th>\n",
       "      <th>1</th>\n",
       "      <th>2</th>\n",
       "      <th>3</th>\n",
       "      <th>4</th>\n",
       "      <th>5</th>\n",
       "      <th>6</th>\n",
       "      <th>7</th>\n",
       "      <th>8</th>\n",
       "      <th>...</th>\n",
       "      <th>9990</th>\n",
       "      <th>9991</th>\n",
       "      <th>9992</th>\n",
       "      <th>9993</th>\n",
       "      <th>9994</th>\n",
       "      <th>9995</th>\n",
       "      <th>9996</th>\n",
       "      <th>9997</th>\n",
       "      <th>9998</th>\n",
       "      <th>9999</th>\n",
       "    </tr>\n",
       "  </thead>\n",
       "  <tbody>\n",
       "    <tr>\n",
       "      <th>0</th>\n",
       "      <td>sadness</td>\n",
       "      <td>71</td>\n",
       "      <td>101</td>\n",
       "      <td>74</td>\n",
       "      <td>66</td>\n",
       "      <td>82</td>\n",
       "      <td>55</td>\n",
       "      <td>84</td>\n",
       "      <td>50</td>\n",
       "      <td>41</td>\n",
       "      <td>...</td>\n",
       "      <td>173</td>\n",
       "      <td>174</td>\n",
       "      <td>174</td>\n",
       "      <td>173</td>\n",
       "      <td>173</td>\n",
       "      <td>172</td>\n",
       "      <td>173</td>\n",
       "      <td>175</td>\n",
       "      <td>177</td>\n",
       "      <td>177</td>\n",
       "    </tr>\n",
       "    <tr>\n",
       "      <th>1</th>\n",
       "      <td>sadness</td>\n",
       "      <td>11</td>\n",
       "      <td>11</td>\n",
       "      <td>37</td>\n",
       "      <td>1</td>\n",
       "      <td>12</td>\n",
       "      <td>27</td>\n",
       "      <td>32</td>\n",
       "      <td>35</td>\n",
       "      <td>44</td>\n",
       "      <td>...</td>\n",
       "      <td>31</td>\n",
       "      <td>33</td>\n",
       "      <td>17</td>\n",
       "      <td>17</td>\n",
       "      <td>18</td>\n",
       "      <td>24</td>\n",
       "      <td>10</td>\n",
       "      <td>13</td>\n",
       "      <td>18</td>\n",
       "      <td>23</td>\n",
       "    </tr>\n",
       "    <tr>\n",
       "      <th>2</th>\n",
       "      <td>happiness</td>\n",
       "      <td>9</td>\n",
       "      <td>13</td>\n",
       "      <td>14</td>\n",
       "      <td>14</td>\n",
       "      <td>22</td>\n",
       "      <td>32</td>\n",
       "      <td>30</td>\n",
       "      <td>20</td>\n",
       "      <td>12</td>\n",
       "      <td>...</td>\n",
       "      <td>215</td>\n",
       "      <td>215</td>\n",
       "      <td>215</td>\n",
       "      <td>215</td>\n",
       "      <td>215</td>\n",
       "      <td>215</td>\n",
       "      <td>213</td>\n",
       "      <td>213</td>\n",
       "      <td>213</td>\n",
       "      <td>212</td>\n",
       "    </tr>\n",
       "    <tr>\n",
       "      <th>3</th>\n",
       "      <td>happiness</td>\n",
       "      <td>50</td>\n",
       "      <td>33</td>\n",
       "      <td>17</td>\n",
       "      <td>20</td>\n",
       "      <td>36</td>\n",
       "      <td>50</td>\n",
       "      <td>50</td>\n",
       "      <td>45</td>\n",
       "      <td>38</td>\n",
       "      <td>...</td>\n",
       "      <td>224</td>\n",
       "      <td>222</td>\n",
       "      <td>219</td>\n",
       "      <td>215</td>\n",
       "      <td>213</td>\n",
       "      <td>212</td>\n",
       "      <td>213</td>\n",
       "      <td>211</td>\n",
       "      <td>207</td>\n",
       "      <td>204</td>\n",
       "    </tr>\n",
       "    <tr>\n",
       "      <th>4</th>\n",
       "      <td>sadness</td>\n",
       "      <td>23</td>\n",
       "      <td>20</td>\n",
       "      <td>21</td>\n",
       "      <td>29</td>\n",
       "      <td>39</td>\n",
       "      <td>43</td>\n",
       "      <td>38</td>\n",
       "      <td>30</td>\n",
       "      <td>23</td>\n",
       "      <td>...</td>\n",
       "      <td>52</td>\n",
       "      <td>64</td>\n",
       "      <td>79</td>\n",
       "      <td>103</td>\n",
       "      <td>165</td>\n",
       "      <td>208</td>\n",
       "      <td>227</td>\n",
       "      <td>160</td>\n",
       "      <td>159</td>\n",
       "      <td>177</td>\n",
       "    </tr>\n",
       "  </tbody>\n",
       "</table>\n",
       "<p>5 rows × 10001 columns</p>\n",
       "</div>"
      ],
      "text/plain": [
       "  expressions   0    1   2   3   4   5   6   7   8  ...  9990  9991  9992  \\\n",
       "0     sadness  71  101  74  66  82  55  84  50  41  ...   173   174   174   \n",
       "1     sadness  11   11  37   1  12  27  32  35  44  ...    31    33    17   \n",
       "2   happiness   9   13  14  14  22  32  30  20  12  ...   215   215   215   \n",
       "3   happiness  50   33  17  20  36  50  50  45  38  ...   224   222   219   \n",
       "4     sadness  23   20  21  29  39  43  38  30  23  ...    52    64    79   \n",
       "\n",
       "   9993  9994  9995  9996  9997  9998  9999  \n",
       "0   173   173   172   173   175   177   177  \n",
       "1    17    18    24    10    13    18    23  \n",
       "2   215   215   215   213   213   213   212  \n",
       "3   215   213   212   213   211   207   204  \n",
       "4   103   165   208   227   160   159   177  \n",
       "\n",
       "[5 rows x 10001 columns]"
      ]
     },
     "execution_count": 2,
     "metadata": {},
     "output_type": "execute_result"
    }
   ],
   "source": [
    "df = pd.read_csv('Facial_Expression_DF.csv')\n",
    "\n",
    "classes = {1: 'suprise', 2: 'fear', 3: 'disgust' , 4: 'happiness', 5: 'sadness', 6: 'anger', 7 : 'neutral'}\n",
    "\n",
    "df['expressions'] = df['expressions'].map(classes) #intger label to cat labes \n",
    "\n",
    "df = df.drop('file_name', axis = 1 )\n",
    "df.head()"
   ]
  },
  {
   "cell_type": "code",
   "execution_count": null,
   "id": "e99f21b1",
   "metadata": {
    "id": "e99f21b1",
    "outputId": "bacad581-c513-467b-8e3b-816d9d554e90"
   },
   "outputs": [
    {
     "data": {
      "text/html": [
       "<div>\n",
       "<style scoped>\n",
       "    .dataframe tbody tr th:only-of-type {\n",
       "        vertical-align: middle;\n",
       "    }\n",
       "\n",
       "    .dataframe tbody tr th {\n",
       "        vertical-align: top;\n",
       "    }\n",
       "\n",
       "    .dataframe thead th {\n",
       "        text-align: right;\n",
       "    }\n",
       "</style>\n",
       "<table border=\"1\" class=\"dataframe\">\n",
       "  <thead>\n",
       "    <tr style=\"text-align: right;\">\n",
       "      <th></th>\n",
       "      <th>expressions</th>\n",
       "      <th>0</th>\n",
       "      <th>1</th>\n",
       "      <th>2</th>\n",
       "      <th>3</th>\n",
       "      <th>4</th>\n",
       "      <th>5</th>\n",
       "      <th>6</th>\n",
       "      <th>7</th>\n",
       "      <th>8</th>\n",
       "      <th>...</th>\n",
       "      <th>9990</th>\n",
       "      <th>9991</th>\n",
       "      <th>9992</th>\n",
       "      <th>9993</th>\n",
       "      <th>9994</th>\n",
       "      <th>9995</th>\n",
       "      <th>9996</th>\n",
       "      <th>9997</th>\n",
       "      <th>9998</th>\n",
       "      <th>9999</th>\n",
       "    </tr>\n",
       "  </thead>\n",
       "  <tbody>\n",
       "    <tr>\n",
       "      <th>0</th>\n",
       "      <td>sadness</td>\n",
       "      <td>71</td>\n",
       "      <td>101</td>\n",
       "      <td>74</td>\n",
       "      <td>66</td>\n",
       "      <td>82</td>\n",
       "      <td>55</td>\n",
       "      <td>84</td>\n",
       "      <td>50</td>\n",
       "      <td>41</td>\n",
       "      <td>...</td>\n",
       "      <td>173</td>\n",
       "      <td>174</td>\n",
       "      <td>174</td>\n",
       "      <td>173</td>\n",
       "      <td>173</td>\n",
       "      <td>172</td>\n",
       "      <td>173</td>\n",
       "      <td>175</td>\n",
       "      <td>177</td>\n",
       "      <td>177</td>\n",
       "    </tr>\n",
       "    <tr>\n",
       "      <th>1</th>\n",
       "      <td>sadness</td>\n",
       "      <td>11</td>\n",
       "      <td>11</td>\n",
       "      <td>37</td>\n",
       "      <td>1</td>\n",
       "      <td>12</td>\n",
       "      <td>27</td>\n",
       "      <td>32</td>\n",
       "      <td>35</td>\n",
       "      <td>44</td>\n",
       "      <td>...</td>\n",
       "      <td>31</td>\n",
       "      <td>33</td>\n",
       "      <td>17</td>\n",
       "      <td>17</td>\n",
       "      <td>18</td>\n",
       "      <td>24</td>\n",
       "      <td>10</td>\n",
       "      <td>13</td>\n",
       "      <td>18</td>\n",
       "      <td>23</td>\n",
       "    </tr>\n",
       "    <tr>\n",
       "      <th>2</th>\n",
       "      <td>happiness</td>\n",
       "      <td>9</td>\n",
       "      <td>13</td>\n",
       "      <td>14</td>\n",
       "      <td>14</td>\n",
       "      <td>22</td>\n",
       "      <td>32</td>\n",
       "      <td>30</td>\n",
       "      <td>20</td>\n",
       "      <td>12</td>\n",
       "      <td>...</td>\n",
       "      <td>215</td>\n",
       "      <td>215</td>\n",
       "      <td>215</td>\n",
       "      <td>215</td>\n",
       "      <td>215</td>\n",
       "      <td>215</td>\n",
       "      <td>213</td>\n",
       "      <td>213</td>\n",
       "      <td>213</td>\n",
       "      <td>212</td>\n",
       "    </tr>\n",
       "    <tr>\n",
       "      <th>3</th>\n",
       "      <td>happiness</td>\n",
       "      <td>50</td>\n",
       "      <td>33</td>\n",
       "      <td>17</td>\n",
       "      <td>20</td>\n",
       "      <td>36</td>\n",
       "      <td>50</td>\n",
       "      <td>50</td>\n",
       "      <td>45</td>\n",
       "      <td>38</td>\n",
       "      <td>...</td>\n",
       "      <td>224</td>\n",
       "      <td>222</td>\n",
       "      <td>219</td>\n",
       "      <td>215</td>\n",
       "      <td>213</td>\n",
       "      <td>212</td>\n",
       "      <td>213</td>\n",
       "      <td>211</td>\n",
       "      <td>207</td>\n",
       "      <td>204</td>\n",
       "    </tr>\n",
       "    <tr>\n",
       "      <th>4</th>\n",
       "      <td>sadness</td>\n",
       "      <td>23</td>\n",
       "      <td>20</td>\n",
       "      <td>21</td>\n",
       "      <td>29</td>\n",
       "      <td>39</td>\n",
       "      <td>43</td>\n",
       "      <td>38</td>\n",
       "      <td>30</td>\n",
       "      <td>23</td>\n",
       "      <td>...</td>\n",
       "      <td>52</td>\n",
       "      <td>64</td>\n",
       "      <td>79</td>\n",
       "      <td>103</td>\n",
       "      <td>165</td>\n",
       "      <td>208</td>\n",
       "      <td>227</td>\n",
       "      <td>160</td>\n",
       "      <td>159</td>\n",
       "      <td>177</td>\n",
       "    </tr>\n",
       "    <tr>\n",
       "      <th>...</th>\n",
       "      <td>...</td>\n",
       "      <td>...</td>\n",
       "      <td>...</td>\n",
       "      <td>...</td>\n",
       "      <td>...</td>\n",
       "      <td>...</td>\n",
       "      <td>...</td>\n",
       "      <td>...</td>\n",
       "      <td>...</td>\n",
       "      <td>...</td>\n",
       "      <td>...</td>\n",
       "      <td>...</td>\n",
       "      <td>...</td>\n",
       "      <td>...</td>\n",
       "      <td>...</td>\n",
       "      <td>...</td>\n",
       "      <td>...</td>\n",
       "      <td>...</td>\n",
       "      <td>...</td>\n",
       "      <td>...</td>\n",
       "      <td>...</td>\n",
       "    </tr>\n",
       "    <tr>\n",
       "      <th>15334</th>\n",
       "      <td>neutral</td>\n",
       "      <td>145</td>\n",
       "      <td>93</td>\n",
       "      <td>103</td>\n",
       "      <td>116</td>\n",
       "      <td>94</td>\n",
       "      <td>90</td>\n",
       "      <td>106</td>\n",
       "      <td>129</td>\n",
       "      <td>132</td>\n",
       "      <td>...</td>\n",
       "      <td>73</td>\n",
       "      <td>85</td>\n",
       "      <td>80</td>\n",
       "      <td>56</td>\n",
       "      <td>32</td>\n",
       "      <td>20</td>\n",
       "      <td>34</td>\n",
       "      <td>43</td>\n",
       "      <td>51</td>\n",
       "      <td>47</td>\n",
       "    </tr>\n",
       "    <tr>\n",
       "      <th>15335</th>\n",
       "      <td>neutral</td>\n",
       "      <td>97</td>\n",
       "      <td>99</td>\n",
       "      <td>120</td>\n",
       "      <td>153</td>\n",
       "      <td>170</td>\n",
       "      <td>168</td>\n",
       "      <td>172</td>\n",
       "      <td>184</td>\n",
       "      <td>185</td>\n",
       "      <td>...</td>\n",
       "      <td>60</td>\n",
       "      <td>76</td>\n",
       "      <td>77</td>\n",
       "      <td>70</td>\n",
       "      <td>73</td>\n",
       "      <td>80</td>\n",
       "      <td>85</td>\n",
       "      <td>83</td>\n",
       "      <td>76</td>\n",
       "      <td>68</td>\n",
       "    </tr>\n",
       "    <tr>\n",
       "      <th>15336</th>\n",
       "      <td>neutral</td>\n",
       "      <td>49</td>\n",
       "      <td>47</td>\n",
       "      <td>49</td>\n",
       "      <td>54</td>\n",
       "      <td>61</td>\n",
       "      <td>65</td>\n",
       "      <td>63</td>\n",
       "      <td>60</td>\n",
       "      <td>65</td>\n",
       "      <td>...</td>\n",
       "      <td>38</td>\n",
       "      <td>40</td>\n",
       "      <td>42</td>\n",
       "      <td>42</td>\n",
       "      <td>40</td>\n",
       "      <td>37</td>\n",
       "      <td>35</td>\n",
       "      <td>37</td>\n",
       "      <td>39</td>\n",
       "      <td>42</td>\n",
       "    </tr>\n",
       "    <tr>\n",
       "      <th>15337</th>\n",
       "      <td>neutral</td>\n",
       "      <td>146</td>\n",
       "      <td>148</td>\n",
       "      <td>149</td>\n",
       "      <td>150</td>\n",
       "      <td>150</td>\n",
       "      <td>152</td>\n",
       "      <td>155</td>\n",
       "      <td>158</td>\n",
       "      <td>161</td>\n",
       "      <td>...</td>\n",
       "      <td>119</td>\n",
       "      <td>121</td>\n",
       "      <td>123</td>\n",
       "      <td>125</td>\n",
       "      <td>128</td>\n",
       "      <td>131</td>\n",
       "      <td>130</td>\n",
       "      <td>130</td>\n",
       "      <td>129</td>\n",
       "      <td>129</td>\n",
       "    </tr>\n",
       "    <tr>\n",
       "      <th>15338</th>\n",
       "      <td>neutral</td>\n",
       "      <td>149</td>\n",
       "      <td>146</td>\n",
       "      <td>141</td>\n",
       "      <td>138</td>\n",
       "      <td>137</td>\n",
       "      <td>139</td>\n",
       "      <td>143</td>\n",
       "      <td>146</td>\n",
       "      <td>140</td>\n",
       "      <td>...</td>\n",
       "      <td>194</td>\n",
       "      <td>195</td>\n",
       "      <td>192</td>\n",
       "      <td>182</td>\n",
       "      <td>167</td>\n",
       "      <td>155</td>\n",
       "      <td>157</td>\n",
       "      <td>155</td>\n",
       "      <td>152</td>\n",
       "      <td>148</td>\n",
       "    </tr>\n",
       "  </tbody>\n",
       "</table>\n",
       "<p>15336 rows × 10001 columns</p>\n",
       "</div>"
      ],
      "text/plain": [
       "      expressions    0    1    2    3    4    5    6    7    8  ...  9990  \\\n",
       "0         sadness   71  101   74   66   82   55   84   50   41  ...   173   \n",
       "1         sadness   11   11   37    1   12   27   32   35   44  ...    31   \n",
       "2       happiness    9   13   14   14   22   32   30   20   12  ...   215   \n",
       "3       happiness   50   33   17   20   36   50   50   45   38  ...   224   \n",
       "4         sadness   23   20   21   29   39   43   38   30   23  ...    52   \n",
       "...           ...  ...  ...  ...  ...  ...  ...  ...  ...  ...  ...   ...   \n",
       "15334     neutral  145   93  103  116   94   90  106  129  132  ...    73   \n",
       "15335     neutral   97   99  120  153  170  168  172  184  185  ...    60   \n",
       "15336     neutral   49   47   49   54   61   65   63   60   65  ...    38   \n",
       "15337     neutral  146  148  149  150  150  152  155  158  161  ...   119   \n",
       "15338     neutral  149  146  141  138  137  139  143  146  140  ...   194   \n",
       "\n",
       "       9991  9992  9993  9994  9995  9996  9997  9998  9999  \n",
       "0       174   174   173   173   172   173   175   177   177  \n",
       "1        33    17    17    18    24    10    13    18    23  \n",
       "2       215   215   215   215   215   213   213   213   212  \n",
       "3       222   219   215   213   212   213   211   207   204  \n",
       "4        64    79   103   165   208   227   160   159   177  \n",
       "...     ...   ...   ...   ...   ...   ...   ...   ...   ...  \n",
       "15334    85    80    56    32    20    34    43    51    47  \n",
       "15335    76    77    70    73    80    85    83    76    68  \n",
       "15336    40    42    42    40    37    35    37    39    42  \n",
       "15337   121   123   125   128   131   130   130   129   129  \n",
       "15338   195   192   182   167   155   157   155   152   148  \n",
       "\n",
       "[15336 rows x 10001 columns]"
      ]
     },
     "execution_count": 7,
     "metadata": {},
     "output_type": "execute_result"
    }
   ],
   "source": [
    "#check for nulls\n",
    "#df.isnull().sum().sum() #0\n",
    "#check for dups\n",
    "df.duplicated().sum() #3\n",
    "df.drop_duplicates()"
   ]
  },
  {
   "cell_type": "markdown",
   "id": "01821532",
   "metadata": {
    "id": "01821532"
   },
   "source": [
    "#### Expressions Classes \n",
    "\n",
    "surprise = 1, fear = 2 , disgust = 3 , happiness = 4 , sadness = 5 , anger = 6 and neutral = 7"
   ]
  },
  {
   "cell_type": "code",
   "execution_count": null,
   "id": "9e722986",
   "metadata": {
    "id": "9e722986",
    "outputId": "9ab35a4d-6103-4faf-8dfb-d6c275536cd0",
    "scrolled": true
   },
   "outputs": [
    {
     "data": {
      "text/plain": [
       "(happiness    5957\n",
       " neutral      3204\n",
       " sadness      2460\n",
       " suprise      1619\n",
       " disgust       877\n",
       " anger         867\n",
       " fear          355\n",
       " Name: expressions, dtype: int64,\n",
       " happiness    0.388356\n",
       " neutral      0.208879\n",
       " sadness      0.160376\n",
       " suprise      0.105548\n",
       " disgust      0.057175\n",
       " anger        0.056523\n",
       " fear         0.023144\n",
       " Name: expressions, dtype: float64)"
      ]
     },
     "execution_count": 9,
     "metadata": {},
     "output_type": "execute_result"
    }
   ],
   "source": [
    "#class balance \n",
    "df.expressions.value_counts(), df.expressions.value_counts(normalize=True)"
   ]
  },
  {
   "cell_type": "code",
   "execution_count": null,
   "id": "ab97c30d",
   "metadata": {
    "id": "ab97c30d",
    "outputId": "eaf30795-308a-49dd-c48e-15ef1b0e5b3b"
   },
   "outputs": [
    {
     "data": {
      "text/plain": [
       "happiness    0.512606\n",
       "neutral      0.275708\n",
       "sadness      0.211686\n",
       "Name: expressions, dtype: float64"
      ]
     },
     "execution_count": 3,
     "metadata": {},
     "output_type": "execute_result"
    }
   ],
   "source": [
    "#taking out classes with that have counts less than 2.4k \n",
    "\n",
    "# if value_counts <= 2000 remove from df....\n",
    "condition = ['happiness', 'sadness', 'neutral']\n",
    "\n",
    "df2 = df[df.expressions.isin(condition)]\n",
    "df2.expressions.value_counts(normalize=True)\n"
   ]
  },
  {
   "cell_type": "code",
   "execution_count": null,
   "id": "9e5eaf47",
   "metadata": {
    "id": "9e5eaf47"
   },
   "outputs": [],
   "source": [
    "sampled_happiness = df2[df2['expressions'] == 'happiness'].sample(n = 3000)\n",
    "sadness =  df2[df2['expressions'] == 'sadness']\n",
    "\n",
    "happy_sad = sampled_happiness.append(sadness, ignore_index = True )"
   ]
  },
  {
   "cell_type": "code",
   "execution_count": null,
   "id": "0245bcde",
   "metadata": {
    "id": "0245bcde",
    "outputId": "1da85ccc-3865-45aa-a0a5-42770f19a504"
   },
   "outputs": [
    {
     "data": {
      "text/plain": [
       "happiness    0.549451\n",
       "sadness      0.450549\n",
       "Name: expressions, dtype: float64"
      ]
     },
     "execution_count": 55,
     "metadata": {},
     "output_type": "execute_result"
    }
   ],
   "source": [
    "from sklearn.utils import shuffle\n",
    "\n",
    "happy_sad= shuffle(happy_sad)\n",
    "\n",
    "happy_sad.expressions.value_counts(normalize = True)\n"
   ]
  },
  {
   "cell_type": "code",
   "execution_count": null,
   "id": "6985b6f3",
   "metadata": {
    "id": "6985b6f3",
    "outputId": "a635d9e1-c709-4e01-ec4f-919b85a7ef55"
   },
   "outputs": [
    {
     "data": {
      "text/plain": [
       "array([[[[0.87843137],\n",
       "         [0.6745098 ],\n",
       "         [0.35686275],\n",
       "         ...,\n",
       "         [0.65098039],\n",
       "         [0.16470588],\n",
       "         [0.75686275]],\n",
       "\n",
       "        [[0.62352941],\n",
       "         [0.44313725],\n",
       "         [0.54117647],\n",
       "         ...,\n",
       "         [0.75686275],\n",
       "         [0.24705882],\n",
       "         [0.55294118]],\n",
       "\n",
       "        [[0.37254902],\n",
       "         [0.40392157],\n",
       "         [0.61960784],\n",
       "         ...,\n",
       "         [0.82352941],\n",
       "         [0.41568627],\n",
       "         [0.38431373]],\n",
       "\n",
       "        ...,\n",
       "\n",
       "        [[0.84705882],\n",
       "         [0.85490196],\n",
       "         [0.86666667],\n",
       "         ...,\n",
       "         [0.86666667],\n",
       "         [0.85882353],\n",
       "         [0.83529412]],\n",
       "\n",
       "        [[0.84313725],\n",
       "         [0.85098039],\n",
       "         [0.86666667],\n",
       "         ...,\n",
       "         [0.8627451 ],\n",
       "         [0.85098039],\n",
       "         [0.83137255]],\n",
       "\n",
       "        [[0.83921569],\n",
       "         [0.84705882],\n",
       "         [0.8627451 ],\n",
       "         ...,\n",
       "         [0.85882353],\n",
       "         [0.84705882],\n",
       "         [0.82352941]]]])"
      ]
     },
     "execution_count": 56,
     "metadata": {},
     "output_type": "execute_result"
    }
   ],
   "source": [
    " \n",
    "selected_features = happy_sad.columns\n",
    " \n",
    "selected_features = list(selected_features) # a list of all the cols\n",
    "\n",
    "    #remove the file_name and the expressions col (our y value)\n",
    "selected_features.remove('expressions')\n",
    "    # selected_features #0-999 pixels of the image\n",
    "\n",
    "condition_01 =  happy_sad['expressions'] == 'happiness'\n",
    "happy_sad['expressions']  = np.where(condition_01, 1, 0)\n",
    "\n",
    "x_cnn = happy_sad[selected_features]/255\n",
    "y_cnn = happy_sad['expressions']\n",
    "\n",
    "x_cnn.to_numpy()[0].reshape(-1, 100, 100, 1)"
   ]
  },
  {
   "cell_type": "code",
   "execution_count": null,
   "id": "ed1ea5fb",
   "metadata": {
    "id": "ed1ea5fb",
    "outputId": "54a34aae-d885-4f65-bd24-db0c06315733"
   },
   "outputs": [
    {
     "data": {
      "text/plain": [
       "3030    0\n",
       "4909    0\n",
       "3432    0\n",
       "273     1\n",
       "281     1\n",
       "       ..\n",
       "4077    0\n",
       "5121    0\n",
       "578     1\n",
       "3944    0\n",
       "2245    1\n",
       "Name: expressions, Length: 5460, dtype: int32"
      ]
     },
     "execution_count": 62,
     "metadata": {},
     "output_type": "execute_result"
    }
   ],
   "source": [
    "y_cnn"
   ]
  },
  {
   "cell_type": "code",
   "execution_count": null,
   "id": "e3cfeee7",
   "metadata": {
    "id": "e3cfeee7",
    "outputId": "b9cc61c0-fd62-4860-a7aa-e8ba291f6f68"
   },
   "outputs": [
    {
     "name": "stdout",
     "output_type": "stream",
     "text": [
      "2.7.0\n"
     ]
    }
   ],
   "source": [
    "# TensorFlow and tf.keras\n",
    "#!pip install tensorflow\n",
    "import tensorflow as tf\n",
    "from tensorflow import keras\n",
    "# Layers for our neural networks\n",
    "from tensorflow.keras.layers import Conv2D, MaxPooling2D, Dropout, Flatten, Dense\n",
    "# A pretrained model for transfer learning\n",
    "from keras.models import Model\n",
    "from keras.applications import vgg19\n",
    "\n",
    "# Our normal python data science stack you've come to know and love\n",
    "import numpy as np\n",
    "import os\n",
    "import sys\n",
    "import matplotlib.pyplot as plt\n",
    "import pandas as pd\n",
    "import seaborn as sns\n",
    "from sklearn.model_selection import train_test_split\n",
    "from sklearn import datasets\n",
    "\n",
    "print(tf.__version__)"
   ]
  },
  {
   "cell_type": "code",
   "execution_count": null,
   "id": "657139bc",
   "metadata": {
    "id": "657139bc"
   },
   "outputs": [],
   "source": [
    "cnn_df = happy_sad\n",
    "len(cnn_df)\n",
    "selected_features = cnn_df.columns\n",
    "selected_features = list(selected_features) \n",
    "\n",
    "    \n",
    "selected_features.remove('expressions')\n",
    "\n",
    "    \n",
    "cnn_x = cnn_df[selected_features]\n",
    "cnn_y = cnn_df['expressions']\n",
    "    \n",
    "cnn_x_train, cnn_x_test, cnn_y_train, cnn_y_test = train_test_split(cnn_x, cnn_y, test_size=0.25, random_state= 43)    \n",
    "    \n",
    "# divide the values by 255 and reshape \n",
    "cnn_x_train = cnn_x_train / 255\n",
    "cnn_x_test = cnn_x_test / 255\n",
    "\n",
    "cnn_x_train = cnn_x_train.to_numpy()\n",
    "cnn_x_test = cnn_x_test.to_numpy()\n",
    "cnn_y_train = cnn_y_train.to_numpy()\n",
    "cnn_y_test = cnn_y_test.to_numpy()\n",
    "\n",
    "cnn_x_train = cnn_x_train.reshape(-1, 100, 100, 1)\n",
    "cnn_y_train = cnn_y_train.reshape(-1)\n",
    "\n",
    "cnn_x_test = cnn_x_test.reshape(-1, 100, 100, 1)\n",
    "cnn_y_test = cnn_y_test.reshape(-1)  "
   ]
  },
  {
   "cell_type": "code",
   "execution_count": null,
   "id": "226635bf",
   "metadata": {
    "id": "226635bf",
    "outputId": "173e9bd4-736b-4388-f037-bb8f517ade9a"
   },
   "outputs": [
    {
     "data": {
      "text/plain": [
       "array(['happiness', 'happiness', 'sadness', ..., 'happiness', 'sadness',\n",
       "       'happiness'], dtype=object)"
      ]
     },
     "execution_count": 49,
     "metadata": {},
     "output_type": "execute_result"
    }
   ],
   "source": [
    "cnn_y_train"
   ]
  },
  {
   "cell_type": "code",
   "execution_count": null,
   "id": "1404361a",
   "metadata": {
    "id": "1404361a"
   },
   "outputs": [],
   "source": [
    "\n",
    "\n",
    "\n",
    "model = tf.keras.models.Sequential()\n",
    "\n",
    "model.add(tf.keras.layers.Conv2D(input_shape=(100,100, 1),filters=100,kernel_size=(3,3), strides=(1,1), activation=\"relu\"))\n",
    "model.add(tf.keras.layers.Conv2D(filters=100,kernel_size=(3,3), strides=(1,1), activation=\"relu\"))\n",
    "model.add(tf.keras.layers.MaxPool2D(2, 2))\n",
    "\n",
    "model.add(tf.keras.layers.Conv2D(filters=100,kernel_size=(3,3), strides=(1,1), activation=\"relu\"))\n",
    "model.add(tf.keras.layers.Conv2D(filters=100,kernel_size=(3,3), strides=(1,1), activation=\"relu\"))\n",
    "model.add(tf.keras.layers.MaxPool2D(2, 2))\n",
    "\n",
    "\n",
    "model.add(tf.keras.layers.Flatten())\n",
    "\n",
    "model.add(tf.keras.layers.Dense(10000, activation='relu'))\n",
    "model.add(tf.keras.layers.Dense(5000, activation='relu'))\n",
    "model.add(tf.keras.layers.Dense(1000, activation='relu'))\n",
    "model.add(tf.keras.layers.Dense(500, activation='relu'))\n",
    "model.add(tf.keras.layers.Dense(100, activation='relu'))\n",
    "model.add(tf.keras.layers.Dense(2, activation='softmax'))"
   ]
  },
  {
   "cell_type": "code",
   "execution_count": null,
   "id": "b7a6f0f7",
   "metadata": {
    "id": "b7a6f0f7"
   },
   "outputs": [],
   "source": [
    "# compile your model\n",
    "\n",
    "model.compile(optimizer=tf.keras.optimizers.Adam(), loss='sparse_categorical_crossentropy', metrics=['acc'])"
   ]
  },
  {
   "cell_type": "code",
   "execution_count": null,
   "id": "489fcb84",
   "metadata": {
    "id": "489fcb84",
    "outputId": "18299ac9-4e19-445c-c576-a8a56312cdf3"
   },
   "outputs": [
    {
     "name": "stdout",
     "output_type": "stream",
     "text": [
      "Epoch 1/6\n",
      "103/103 [==============================] - 704s 7s/step - loss: 0.7190 - acc: 0.5382 - val_loss: 0.6834 - val_acc: 0.5763\n",
      "Epoch 2/6\n",
      "103/103 [==============================] - 692s 7s/step - loss: 0.6873 - acc: 0.5598 - val_loss: 0.6567 - val_acc: 0.6752\n",
      "Epoch 3/6\n",
      "103/103 [==============================] - 686s 7s/step - loss: 0.6053 - acc: 0.6905 - val_loss: 0.4952 - val_acc: 0.7680\n",
      "Epoch 4/6\n",
      "103/103 [==============================] - 676s 7s/step - loss: 0.4404 - acc: 0.8016 - val_loss: 0.3966 - val_acc: 0.8156\n",
      "Epoch 5/6\n",
      "103/103 [==============================] - 671s 7s/step - loss: 0.4274 - acc: 0.8178 - val_loss: 0.3771 - val_acc: 0.8425\n",
      "Epoch 6/6\n",
      "103/103 [==============================] - 668s 6s/step - loss: 0.3435 - acc: 0.8501 - val_loss: 0.3738 - val_acc: 0.8217\n"
     ]
    },
    {
     "data": {
      "text/plain": [
       "<keras.callbacks.History at 0x25cb2d21100>"
      ]
     },
     "execution_count": 66,
     "metadata": {},
     "output_type": "execute_result"
    }
   ],
   "source": [
    "# fit your model\n",
    "\n",
    "epochs = 6\n",
    "model.fit(cnn_x_train, cnn_y_train, epochs=epochs, validation_split=0.2)\n"
   ]
  },
  {
   "cell_type": "code",
   "execution_count": null,
   "id": "fb05f9af",
   "metadata": {
    "id": "fb05f9af",
    "outputId": "6d8245a5-95dc-46f9-c432-a82857a5ed4d"
   },
   "outputs": [
    {
     "name": "stdout",
     "output_type": "stream",
     "text": [
      "43/43 [==============================] - 57s 1s/step - loss: 0.3796 - acc: 0.8425\n"
     ]
    },
    {
     "data": {
      "text/plain": [
       "[0.37955647706985474, 0.8424908518791199]"
      ]
     },
     "execution_count": 68,
     "metadata": {},
     "output_type": "execute_result"
    }
   ],
   "source": [
    "# evaluate your results\n",
    "\n",
    "model.evaluate(cnn_x_test, cnn_y_test)"
   ]
  },
  {
   "cell_type": "code",
   "execution_count": null,
   "id": "08e0f66a",
   "metadata": {
    "id": "08e0f66a"
   },
   "outputs": [],
   "source": [
    "import pickle \n",
    "\n",
    "pickle.dump(model, open('model.sav','wb'))"
   ]
  },
  {
   "cell_type": "code",
   "execution_count": null,
   "id": "8a41c3fc",
   "metadata": {
    "id": "8a41c3fc"
   },
   "outputs": [],
   "source": [
    "amir_rocks = pickle.load(open('model.sav', 'rb'))\n",
    "amir_rocks"
   ]
  }
 ],
 "metadata": {
  "colab": {
   "name": "Facial Expression Classifier 2.ipynb",
   "provenance": []
  },
  "kernelspec": {
   "display_name": "Python 3",
   "language": "python",
   "name": "python3"
  },
  "language_info": {
   "codemirror_mode": {
    "name": "ipython",
    "version": 3
   },
   "file_extension": ".py",
   "mimetype": "text/x-python",
   "name": "python",
   "nbconvert_exporter": "python",
   "pygments_lexer": "ipython3",
   "version": "3.8.8"
  }
 },
 "nbformat": 4,
 "nbformat_minor": 5
}
