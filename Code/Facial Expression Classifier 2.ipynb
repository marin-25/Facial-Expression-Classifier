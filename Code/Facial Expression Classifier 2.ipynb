{
 "cells": [
  {
   "cell_type": "code",
   "execution_count": 49,
   "id": "b24c0fe7",
   "metadata": {},
   "outputs": [
    {
     "name": "stdout",
     "output_type": "stream",
     "text": [
      "Requirement already satisfied: opencv-python in c:\\users\\laptop\\anaconda3\\lib\\site-packages (4.5.4.58)\n",
      "Requirement already satisfied: numpy>=1.19.3 in c:\\users\\laptop\\anaconda3\\lib\\site-packages (from opencv-python) (1.20.3)\n"
     ]
    }
   ],
   "source": [
    "import scipy.io\n",
    "import numpy as np\n",
    "import pandas as pd\n",
    "\n",
    "!pip install opencv-python\n",
    "import cv2\n",
    "\n",
    "import glob\n",
    "\n",
    "import matplotlib.pyplot as plt\n",
    "import matplotlib.image as mpimg\n",
    "\n",
    "\n",
    "# Import classifiers\n",
    "from sklearn import svm\n",
    "from sklearn.svm import SVC\n",
    "\n",
    "from sklearn.ensemble import RandomForestClassifier\n",
    "from sklearn.linear_model import LogisticRegression\n",
    "from sklearn.naive_bayes import MultinomialNB\n",
    "# metrics contain our plot_confustion_matrix and classification_report\n",
    "from sklearn import metrics\n",
    "\n",
    "# Helper fuction to splitting data\n",
    "from sklearn.model_selection import train_test_split\n",
    "\n"
   ]
  },
  {
   "cell_type": "code",
   "execution_count": null,
   "id": "491401c6",
   "metadata": {},
   "outputs": [],
   "source": [
    "#importing images with glob \n",
    "\n",
    "#pip install opencv-python\n",
    "import cv2\n",
    "import glob\n",
    "\n",
    "imdir = 'aligned/'\n",
    "\n",
    "files = []\n",
    "[files.extend(glob.glob(imdir + '*.jpg'))] #arbitrary ordering of files \n",
    "files = sorted(files) # to get back file ordering\n",
    "images = [cv2.imread(file) for file in files]\n",
    "\n",
    "\n",
    "files_df = pd.DataFrame(files)\n",
    "\n",
    "files_df.set_axis(['file_name'], axis =1 , inplace = True )\n",
    "\n",
    "replace = ['aligned/', '_aligned' ]\n",
    "\n",
    "files_df['file_name'] = files_df['file_name'].replace(replace , '' , regex = True )\n"
   ]
  },
  {
   "cell_type": "code",
   "execution_count": null,
   "id": "33a388a1",
   "metadata": {},
   "outputs": [],
   "source": [
    "import matplotlib.pyplot as plt\n",
    "import matplotlib.image as mpimg\n",
    "\n",
    "cv2.cvtColor(images[0], cv2.COLOR_BGR2GRAY)\n",
    "\n",
    "images_gray = [cv2.cvtColor(images[i], cv2.COLOR_BGR2GRAY) for i in range(len(images)) ]\n",
    "\n",
    "\n",
    "#plt.imshow(images_gray[0], cmap = 'gray') display image \n",
    "\n",
    "print( 'rbg shape:' , images[0].flatten().shape , 'gray shape:', images_gray[0].flatten().shape)\n",
    "\n",
    "flatten_gray = [images_gray[i].flatten() for i in range(len(images_gray))]\n",
    "\n",
    "flatten_df = pd.DataFrame(flatten_gray)\n",
    "\n",
    "flatten_df.insert(0, 'file_name' , files_df)"
   ]
  },
  {
   "cell_type": "code",
   "execution_count": null,
   "id": "d1b2a1a9",
   "metadata": {},
   "outputs": [],
   "source": [
    "import pandas as pd\n",
    "\n",
    "df_list_patition_label = pd.read_csv(\"list_patition_label.txt\", sep = \" \", header = None) #Reading the file list_partition_label; make sure to have this file in the same folder as the python code file\n",
    "\n",
    "#class_balance = df.groupby(1).nunique()\n",
    "#class_balance.columns = [\"Count\"]\n",
    "#class_balance\n",
    "\n",
    "df_list_patition_label.set_axis(['file_name', 'expressions'], axis =1 , inplace = True )\n"
   ]
  },
  {
   "cell_type": "code",
   "execution_count": null,
   "id": "c4a0ebf6",
   "metadata": {},
   "outputs": [],
   "source": [
    "result = pd.merge(df_list_patition_label, flatten_df , on='file_name')\n",
    "\n",
    "result"
   ]
  },
  {
   "cell_type": "code",
   "execution_count": null,
   "id": "edc3147d",
   "metadata": {},
   "outputs": [],
   "source": [
    "result.to_csv(r'Facial_Expression_DF.csv', index = False)"
   ]
  },
  {
   "cell_type": "code",
   "execution_count": 2,
   "id": "290fa157",
   "metadata": {
    "scrolled": true
   },
   "outputs": [
    {
     "data": {
      "text/html": [
       "<div>\n",
       "<style scoped>\n",
       "    .dataframe tbody tr th:only-of-type {\n",
       "        vertical-align: middle;\n",
       "    }\n",
       "\n",
       "    .dataframe tbody tr th {\n",
       "        vertical-align: top;\n",
       "    }\n",
       "\n",
       "    .dataframe thead th {\n",
       "        text-align: right;\n",
       "    }\n",
       "</style>\n",
       "<table border=\"1\" class=\"dataframe\">\n",
       "  <thead>\n",
       "    <tr style=\"text-align: right;\">\n",
       "      <th></th>\n",
       "      <th>expressions</th>\n",
       "      <th>0</th>\n",
       "      <th>1</th>\n",
       "      <th>2</th>\n",
       "      <th>3</th>\n",
       "      <th>4</th>\n",
       "      <th>5</th>\n",
       "      <th>6</th>\n",
       "      <th>7</th>\n",
       "      <th>8</th>\n",
       "      <th>...</th>\n",
       "      <th>9990</th>\n",
       "      <th>9991</th>\n",
       "      <th>9992</th>\n",
       "      <th>9993</th>\n",
       "      <th>9994</th>\n",
       "      <th>9995</th>\n",
       "      <th>9996</th>\n",
       "      <th>9997</th>\n",
       "      <th>9998</th>\n",
       "      <th>9999</th>\n",
       "    </tr>\n",
       "  </thead>\n",
       "  <tbody>\n",
       "    <tr>\n",
       "      <th>0</th>\n",
       "      <td>sadness</td>\n",
       "      <td>71</td>\n",
       "      <td>101</td>\n",
       "      <td>74</td>\n",
       "      <td>66</td>\n",
       "      <td>82</td>\n",
       "      <td>55</td>\n",
       "      <td>84</td>\n",
       "      <td>50</td>\n",
       "      <td>41</td>\n",
       "      <td>...</td>\n",
       "      <td>173</td>\n",
       "      <td>174</td>\n",
       "      <td>174</td>\n",
       "      <td>173</td>\n",
       "      <td>173</td>\n",
       "      <td>172</td>\n",
       "      <td>173</td>\n",
       "      <td>175</td>\n",
       "      <td>177</td>\n",
       "      <td>177</td>\n",
       "    </tr>\n",
       "    <tr>\n",
       "      <th>1</th>\n",
       "      <td>sadness</td>\n",
       "      <td>11</td>\n",
       "      <td>11</td>\n",
       "      <td>37</td>\n",
       "      <td>1</td>\n",
       "      <td>12</td>\n",
       "      <td>27</td>\n",
       "      <td>32</td>\n",
       "      <td>35</td>\n",
       "      <td>44</td>\n",
       "      <td>...</td>\n",
       "      <td>31</td>\n",
       "      <td>33</td>\n",
       "      <td>17</td>\n",
       "      <td>17</td>\n",
       "      <td>18</td>\n",
       "      <td>24</td>\n",
       "      <td>10</td>\n",
       "      <td>13</td>\n",
       "      <td>18</td>\n",
       "      <td>23</td>\n",
       "    </tr>\n",
       "    <tr>\n",
       "      <th>2</th>\n",
       "      <td>happiness</td>\n",
       "      <td>9</td>\n",
       "      <td>13</td>\n",
       "      <td>14</td>\n",
       "      <td>14</td>\n",
       "      <td>22</td>\n",
       "      <td>32</td>\n",
       "      <td>30</td>\n",
       "      <td>20</td>\n",
       "      <td>12</td>\n",
       "      <td>...</td>\n",
       "      <td>215</td>\n",
       "      <td>215</td>\n",
       "      <td>215</td>\n",
       "      <td>215</td>\n",
       "      <td>215</td>\n",
       "      <td>215</td>\n",
       "      <td>213</td>\n",
       "      <td>213</td>\n",
       "      <td>213</td>\n",
       "      <td>212</td>\n",
       "    </tr>\n",
       "    <tr>\n",
       "      <th>3</th>\n",
       "      <td>happiness</td>\n",
       "      <td>50</td>\n",
       "      <td>33</td>\n",
       "      <td>17</td>\n",
       "      <td>20</td>\n",
       "      <td>36</td>\n",
       "      <td>50</td>\n",
       "      <td>50</td>\n",
       "      <td>45</td>\n",
       "      <td>38</td>\n",
       "      <td>...</td>\n",
       "      <td>224</td>\n",
       "      <td>222</td>\n",
       "      <td>219</td>\n",
       "      <td>215</td>\n",
       "      <td>213</td>\n",
       "      <td>212</td>\n",
       "      <td>213</td>\n",
       "      <td>211</td>\n",
       "      <td>207</td>\n",
       "      <td>204</td>\n",
       "    </tr>\n",
       "    <tr>\n",
       "      <th>4</th>\n",
       "      <td>sadness</td>\n",
       "      <td>23</td>\n",
       "      <td>20</td>\n",
       "      <td>21</td>\n",
       "      <td>29</td>\n",
       "      <td>39</td>\n",
       "      <td>43</td>\n",
       "      <td>38</td>\n",
       "      <td>30</td>\n",
       "      <td>23</td>\n",
       "      <td>...</td>\n",
       "      <td>52</td>\n",
       "      <td>64</td>\n",
       "      <td>79</td>\n",
       "      <td>103</td>\n",
       "      <td>165</td>\n",
       "      <td>208</td>\n",
       "      <td>227</td>\n",
       "      <td>160</td>\n",
       "      <td>159</td>\n",
       "      <td>177</td>\n",
       "    </tr>\n",
       "  </tbody>\n",
       "</table>\n",
       "<p>5 rows × 10001 columns</p>\n",
       "</div>"
      ],
      "text/plain": [
       "  expressions   0    1   2   3   4   5   6   7   8  ...  9990  9991  9992  \\\n",
       "0     sadness  71  101  74  66  82  55  84  50  41  ...   173   174   174   \n",
       "1     sadness  11   11  37   1  12  27  32  35  44  ...    31    33    17   \n",
       "2   happiness   9   13  14  14  22  32  30  20  12  ...   215   215   215   \n",
       "3   happiness  50   33  17  20  36  50  50  45  38  ...   224   222   219   \n",
       "4     sadness  23   20  21  29  39  43  38  30  23  ...    52    64    79   \n",
       "\n",
       "   9993  9994  9995  9996  9997  9998  9999  \n",
       "0   173   173   172   173   175   177   177  \n",
       "1    17    18    24    10    13    18    23  \n",
       "2   215   215   215   213   213   213   212  \n",
       "3   215   213   212   213   211   207   204  \n",
       "4   103   165   208   227   160   159   177  \n",
       "\n",
       "[5 rows x 10001 columns]"
      ]
     },
     "execution_count": 2,
     "metadata": {},
     "output_type": "execute_result"
    }
   ],
   "source": [
    "df = pd.read_csv('Facial_Expression_DF.csv')\n",
    "\n",
    "classes = {1: 'suprise', 2: 'fear', 3: 'disgust' , 4: 'happiness', 5: 'sadness', 6: 'anger', 7 : 'neutral'}\n",
    "\n",
    "df['expressions'] = df['expressions'].map(classes) #intger label to cat labes \n",
    "\n",
    "df = df.drop('file_name', axis = 1 )\n",
    "df.head()"
   ]
  },
  {
   "cell_type": "code",
   "execution_count": 7,
   "id": "e99f21b1",
   "metadata": {},
   "outputs": [
    {
     "data": {
      "text/html": [
       "<div>\n",
       "<style scoped>\n",
       "    .dataframe tbody tr th:only-of-type {\n",
       "        vertical-align: middle;\n",
       "    }\n",
       "\n",
       "    .dataframe tbody tr th {\n",
       "        vertical-align: top;\n",
       "    }\n",
       "\n",
       "    .dataframe thead th {\n",
       "        text-align: right;\n",
       "    }\n",
       "</style>\n",
       "<table border=\"1\" class=\"dataframe\">\n",
       "  <thead>\n",
       "    <tr style=\"text-align: right;\">\n",
       "      <th></th>\n",
       "      <th>expressions</th>\n",
       "      <th>0</th>\n",
       "      <th>1</th>\n",
       "      <th>2</th>\n",
       "      <th>3</th>\n",
       "      <th>4</th>\n",
       "      <th>5</th>\n",
       "      <th>6</th>\n",
       "      <th>7</th>\n",
       "      <th>8</th>\n",
       "      <th>...</th>\n",
       "      <th>9990</th>\n",
       "      <th>9991</th>\n",
       "      <th>9992</th>\n",
       "      <th>9993</th>\n",
       "      <th>9994</th>\n",
       "      <th>9995</th>\n",
       "      <th>9996</th>\n",
       "      <th>9997</th>\n",
       "      <th>9998</th>\n",
       "      <th>9999</th>\n",
       "    </tr>\n",
       "  </thead>\n",
       "  <tbody>\n",
       "    <tr>\n",
       "      <th>0</th>\n",
       "      <td>sadness</td>\n",
       "      <td>71</td>\n",
       "      <td>101</td>\n",
       "      <td>74</td>\n",
       "      <td>66</td>\n",
       "      <td>82</td>\n",
       "      <td>55</td>\n",
       "      <td>84</td>\n",
       "      <td>50</td>\n",
       "      <td>41</td>\n",
       "      <td>...</td>\n",
       "      <td>173</td>\n",
       "      <td>174</td>\n",
       "      <td>174</td>\n",
       "      <td>173</td>\n",
       "      <td>173</td>\n",
       "      <td>172</td>\n",
       "      <td>173</td>\n",
       "      <td>175</td>\n",
       "      <td>177</td>\n",
       "      <td>177</td>\n",
       "    </tr>\n",
       "    <tr>\n",
       "      <th>1</th>\n",
       "      <td>sadness</td>\n",
       "      <td>11</td>\n",
       "      <td>11</td>\n",
       "      <td>37</td>\n",
       "      <td>1</td>\n",
       "      <td>12</td>\n",
       "      <td>27</td>\n",
       "      <td>32</td>\n",
       "      <td>35</td>\n",
       "      <td>44</td>\n",
       "      <td>...</td>\n",
       "      <td>31</td>\n",
       "      <td>33</td>\n",
       "      <td>17</td>\n",
       "      <td>17</td>\n",
       "      <td>18</td>\n",
       "      <td>24</td>\n",
       "      <td>10</td>\n",
       "      <td>13</td>\n",
       "      <td>18</td>\n",
       "      <td>23</td>\n",
       "    </tr>\n",
       "    <tr>\n",
       "      <th>2</th>\n",
       "      <td>happiness</td>\n",
       "      <td>9</td>\n",
       "      <td>13</td>\n",
       "      <td>14</td>\n",
       "      <td>14</td>\n",
       "      <td>22</td>\n",
       "      <td>32</td>\n",
       "      <td>30</td>\n",
       "      <td>20</td>\n",
       "      <td>12</td>\n",
       "      <td>...</td>\n",
       "      <td>215</td>\n",
       "      <td>215</td>\n",
       "      <td>215</td>\n",
       "      <td>215</td>\n",
       "      <td>215</td>\n",
       "      <td>215</td>\n",
       "      <td>213</td>\n",
       "      <td>213</td>\n",
       "      <td>213</td>\n",
       "      <td>212</td>\n",
       "    </tr>\n",
       "    <tr>\n",
       "      <th>3</th>\n",
       "      <td>happiness</td>\n",
       "      <td>50</td>\n",
       "      <td>33</td>\n",
       "      <td>17</td>\n",
       "      <td>20</td>\n",
       "      <td>36</td>\n",
       "      <td>50</td>\n",
       "      <td>50</td>\n",
       "      <td>45</td>\n",
       "      <td>38</td>\n",
       "      <td>...</td>\n",
       "      <td>224</td>\n",
       "      <td>222</td>\n",
       "      <td>219</td>\n",
       "      <td>215</td>\n",
       "      <td>213</td>\n",
       "      <td>212</td>\n",
       "      <td>213</td>\n",
       "      <td>211</td>\n",
       "      <td>207</td>\n",
       "      <td>204</td>\n",
       "    </tr>\n",
       "    <tr>\n",
       "      <th>4</th>\n",
       "      <td>sadness</td>\n",
       "      <td>23</td>\n",
       "      <td>20</td>\n",
       "      <td>21</td>\n",
       "      <td>29</td>\n",
       "      <td>39</td>\n",
       "      <td>43</td>\n",
       "      <td>38</td>\n",
       "      <td>30</td>\n",
       "      <td>23</td>\n",
       "      <td>...</td>\n",
       "      <td>52</td>\n",
       "      <td>64</td>\n",
       "      <td>79</td>\n",
       "      <td>103</td>\n",
       "      <td>165</td>\n",
       "      <td>208</td>\n",
       "      <td>227</td>\n",
       "      <td>160</td>\n",
       "      <td>159</td>\n",
       "      <td>177</td>\n",
       "    </tr>\n",
       "    <tr>\n",
       "      <th>...</th>\n",
       "      <td>...</td>\n",
       "      <td>...</td>\n",
       "      <td>...</td>\n",
       "      <td>...</td>\n",
       "      <td>...</td>\n",
       "      <td>...</td>\n",
       "      <td>...</td>\n",
       "      <td>...</td>\n",
       "      <td>...</td>\n",
       "      <td>...</td>\n",
       "      <td>...</td>\n",
       "      <td>...</td>\n",
       "      <td>...</td>\n",
       "      <td>...</td>\n",
       "      <td>...</td>\n",
       "      <td>...</td>\n",
       "      <td>...</td>\n",
       "      <td>...</td>\n",
       "      <td>...</td>\n",
       "      <td>...</td>\n",
       "      <td>...</td>\n",
       "    </tr>\n",
       "    <tr>\n",
       "      <th>15334</th>\n",
       "      <td>neutral</td>\n",
       "      <td>145</td>\n",
       "      <td>93</td>\n",
       "      <td>103</td>\n",
       "      <td>116</td>\n",
       "      <td>94</td>\n",
       "      <td>90</td>\n",
       "      <td>106</td>\n",
       "      <td>129</td>\n",
       "      <td>132</td>\n",
       "      <td>...</td>\n",
       "      <td>73</td>\n",
       "      <td>85</td>\n",
       "      <td>80</td>\n",
       "      <td>56</td>\n",
       "      <td>32</td>\n",
       "      <td>20</td>\n",
       "      <td>34</td>\n",
       "      <td>43</td>\n",
       "      <td>51</td>\n",
       "      <td>47</td>\n",
       "    </tr>\n",
       "    <tr>\n",
       "      <th>15335</th>\n",
       "      <td>neutral</td>\n",
       "      <td>97</td>\n",
       "      <td>99</td>\n",
       "      <td>120</td>\n",
       "      <td>153</td>\n",
       "      <td>170</td>\n",
       "      <td>168</td>\n",
       "      <td>172</td>\n",
       "      <td>184</td>\n",
       "      <td>185</td>\n",
       "      <td>...</td>\n",
       "      <td>60</td>\n",
       "      <td>76</td>\n",
       "      <td>77</td>\n",
       "      <td>70</td>\n",
       "      <td>73</td>\n",
       "      <td>80</td>\n",
       "      <td>85</td>\n",
       "      <td>83</td>\n",
       "      <td>76</td>\n",
       "      <td>68</td>\n",
       "    </tr>\n",
       "    <tr>\n",
       "      <th>15336</th>\n",
       "      <td>neutral</td>\n",
       "      <td>49</td>\n",
       "      <td>47</td>\n",
       "      <td>49</td>\n",
       "      <td>54</td>\n",
       "      <td>61</td>\n",
       "      <td>65</td>\n",
       "      <td>63</td>\n",
       "      <td>60</td>\n",
       "      <td>65</td>\n",
       "      <td>...</td>\n",
       "      <td>38</td>\n",
       "      <td>40</td>\n",
       "      <td>42</td>\n",
       "      <td>42</td>\n",
       "      <td>40</td>\n",
       "      <td>37</td>\n",
       "      <td>35</td>\n",
       "      <td>37</td>\n",
       "      <td>39</td>\n",
       "      <td>42</td>\n",
       "    </tr>\n",
       "    <tr>\n",
       "      <th>15337</th>\n",
       "      <td>neutral</td>\n",
       "      <td>146</td>\n",
       "      <td>148</td>\n",
       "      <td>149</td>\n",
       "      <td>150</td>\n",
       "      <td>150</td>\n",
       "      <td>152</td>\n",
       "      <td>155</td>\n",
       "      <td>158</td>\n",
       "      <td>161</td>\n",
       "      <td>...</td>\n",
       "      <td>119</td>\n",
       "      <td>121</td>\n",
       "      <td>123</td>\n",
       "      <td>125</td>\n",
       "      <td>128</td>\n",
       "      <td>131</td>\n",
       "      <td>130</td>\n",
       "      <td>130</td>\n",
       "      <td>129</td>\n",
       "      <td>129</td>\n",
       "    </tr>\n",
       "    <tr>\n",
       "      <th>15338</th>\n",
       "      <td>neutral</td>\n",
       "      <td>149</td>\n",
       "      <td>146</td>\n",
       "      <td>141</td>\n",
       "      <td>138</td>\n",
       "      <td>137</td>\n",
       "      <td>139</td>\n",
       "      <td>143</td>\n",
       "      <td>146</td>\n",
       "      <td>140</td>\n",
       "      <td>...</td>\n",
       "      <td>194</td>\n",
       "      <td>195</td>\n",
       "      <td>192</td>\n",
       "      <td>182</td>\n",
       "      <td>167</td>\n",
       "      <td>155</td>\n",
       "      <td>157</td>\n",
       "      <td>155</td>\n",
       "      <td>152</td>\n",
       "      <td>148</td>\n",
       "    </tr>\n",
       "  </tbody>\n",
       "</table>\n",
       "<p>15336 rows × 10001 columns</p>\n",
       "</div>"
      ],
      "text/plain": [
       "      expressions    0    1    2    3    4    5    6    7    8  ...  9990  \\\n",
       "0         sadness   71  101   74   66   82   55   84   50   41  ...   173   \n",
       "1         sadness   11   11   37    1   12   27   32   35   44  ...    31   \n",
       "2       happiness    9   13   14   14   22   32   30   20   12  ...   215   \n",
       "3       happiness   50   33   17   20   36   50   50   45   38  ...   224   \n",
       "4         sadness   23   20   21   29   39   43   38   30   23  ...    52   \n",
       "...           ...  ...  ...  ...  ...  ...  ...  ...  ...  ...  ...   ...   \n",
       "15334     neutral  145   93  103  116   94   90  106  129  132  ...    73   \n",
       "15335     neutral   97   99  120  153  170  168  172  184  185  ...    60   \n",
       "15336     neutral   49   47   49   54   61   65   63   60   65  ...    38   \n",
       "15337     neutral  146  148  149  150  150  152  155  158  161  ...   119   \n",
       "15338     neutral  149  146  141  138  137  139  143  146  140  ...   194   \n",
       "\n",
       "       9991  9992  9993  9994  9995  9996  9997  9998  9999  \n",
       "0       174   174   173   173   172   173   175   177   177  \n",
       "1        33    17    17    18    24    10    13    18    23  \n",
       "2       215   215   215   215   215   213   213   213   212  \n",
       "3       222   219   215   213   212   213   211   207   204  \n",
       "4        64    79   103   165   208   227   160   159   177  \n",
       "...     ...   ...   ...   ...   ...   ...   ...   ...   ...  \n",
       "15334    85    80    56    32    20    34    43    51    47  \n",
       "15335    76    77    70    73    80    85    83    76    68  \n",
       "15336    40    42    42    40    37    35    37    39    42  \n",
       "15337   121   123   125   128   131   130   130   129   129  \n",
       "15338   195   192   182   167   155   157   155   152   148  \n",
       "\n",
       "[15336 rows x 10001 columns]"
      ]
     },
     "execution_count": 7,
     "metadata": {},
     "output_type": "execute_result"
    }
   ],
   "source": [
    "#check for nulls\n",
    "#df.isnull().sum().sum() #0\n",
    "#check for dups\n",
    "df.duplicated().sum() #3\n",
    "df.drop_duplicates()"
   ]
  },
  {
   "cell_type": "markdown",
   "id": "01821532",
   "metadata": {},
   "source": [
    "#### Expressions Classes \n",
    "\n",
    "surprise = 1, fear = 2 , disgust = 3 , happiness = 4 , sadness = 5 , anger = 6 and neutral = 7"
   ]
  },
  {
   "cell_type": "code",
   "execution_count": 9,
   "id": "9e722986",
   "metadata": {
    "scrolled": true
   },
   "outputs": [
    {
     "data": {
      "text/plain": [
       "(happiness    5957\n",
       " neutral      3204\n",
       " sadness      2460\n",
       " suprise      1619\n",
       " disgust       877\n",
       " anger         867\n",
       " fear          355\n",
       " Name: expressions, dtype: int64,\n",
       " happiness    0.388356\n",
       " neutral      0.208879\n",
       " sadness      0.160376\n",
       " suprise      0.105548\n",
       " disgust      0.057175\n",
       " anger        0.056523\n",
       " fear         0.023144\n",
       " Name: expressions, dtype: float64)"
      ]
     },
     "execution_count": 9,
     "metadata": {},
     "output_type": "execute_result"
    }
   ],
   "source": [
    "#class balance \n",
    "df.expressions.value_counts(), df.expressions.value_counts(normalize=True)"
   ]
  },
  {
   "cell_type": "code",
   "execution_count": 10,
   "id": "ab97c30d",
   "metadata": {},
   "outputs": [
    {
     "data": {
      "text/plain": [
       "happiness    0.512606\n",
       "neutral      0.275708\n",
       "sadness      0.211686\n",
       "Name: expressions, dtype: float64"
      ]
     },
     "execution_count": 10,
     "metadata": {},
     "output_type": "execute_result"
    }
   ],
   "source": [
    "#taking out classes with that have counts less than 2.4k \n",
    "\n",
    "# if value_counts <= 2000 remove from df....\n",
    "condition = ['happiness', 'sadness', 'neutral']\n",
    "\n",
    "df2 = df[df.expressions.isin(condition)]\n",
    "df2.expressions.value_counts(normalize=True)\n"
   ]
  },
  {
   "cell_type": "code",
   "execution_count": 11,
   "id": "9e5eaf47",
   "metadata": {},
   "outputs": [],
   "source": [
    "sampled_happiness = df2[df2['expressions'] == 'happiness'].sample(n = 3000)\n",
    "sampled_neutral = df2[df2['expressions'] == 'neutral'].sample(n = 3000)\n",
    "sadness =  df2[df2['expressions'] == 'sadness']\n",
    "\n",
    "balanced_df = sadness.append([sampled_happiness, sampled_neutral], ignore_index = True)\n",
    "\n",
    "happy_neutral = sampled_happiness.append(sampled_neutral, ignore_index = True)\n",
    "happy_sad = sampled_happiness.append(sadness, ignore_index = True )"
   ]
  },
  {
   "cell_type": "code",
   "execution_count": 12,
   "id": "0245bcde",
   "metadata": {},
   "outputs": [
    {
     "data": {
      "text/plain": [
       "happiness    0.549451\n",
       "sadness      0.450549\n",
       "Name: expressions, dtype: float64"
      ]
     },
     "execution_count": 12,
     "metadata": {},
     "output_type": "execute_result"
    }
   ],
   "source": [
    "from sklearn.utils import shuffle\n",
    "\n",
    "balanced_df = shuffle(balanced_df)\n",
    "happy_neutral =shuffle(happy_neutral)\n",
    "happy_sad= shuffle(happy_sad)\n",
    "\n",
    "happy_sad.expressions.value_counts(normalize = True)\n"
   ]
  },
  {
   "cell_type": "code",
   "execution_count": 39,
   "id": "7bd88cdc",
   "metadata": {},
   "outputs": [],
   "source": [
    "def build_and_eval_model(model,df,name,  random_state=23):\n",
    "    print(\"Running report for model:\", model , 'and DF:' , name)\n",
    "   \n",
    "    selected_features = df.columns\n",
    "    # print(type(selected_features)) = <class 'pandas.core.indexes.base.Index'>\n",
    "    selected_features = list(selected_features) # a list of all the cols\n",
    "\n",
    "    #remove the file_name and the expressions col (our y value)\n",
    "    selected_features.remove('expressions')\n",
    "    # selected_features #0-999 pixels of the image\n",
    "    \n",
    "    \n",
    "    X = df[selected_features]\n",
    "    y = df['expressions']\n",
    "    \n",
    "    X_train, X_test, y_train, y_test = train_test_split(\n",
    "        X, y, test_size=0.25, random_state=random_state)    \n",
    "    \n",
    "    #Normalize pixels \n",
    "    X_train = X_train / 255\n",
    "    X_test = X_test / 255\n",
    "    \n",
    "    # Fit our model.\n",
    "    model.fit(X_train, y_train)\n",
    "    \n",
    "    # Get the accuracy\n",
    "    accuracy = model.score(X_test, y_test)\n",
    "    print(\"\\n\\nAccuracy %f\" % accuracy , 'for model: ' , model)\n",
    "    \n",
    "    \n",
    "    # Make new predictions\n",
    "    y_pred = model.predict(X_test)\n",
    "    \n",
    "    \n",
    "    # Print the classification report. \n",
    "    print(metrics.classification_report(y_test, y_pred))\n",
    "    \n",
    "    title = 'confusion matrix for model: '+ str(model)\n",
    "       \n",
    "    # Plot the confusion matrix\n",
    "    fig, ax = plt.subplots(figsize=(13,13))\n",
    "    plt.title(title)\n",
    "   \n",
    "    metrics.plot_confusion_matrix(estimator=model, \n",
    "                                  X=X_test, \n",
    "                                  y_true=y_test, \n",
    "                                  ax=ax)\n",
    "    \n",
    "\n",
    "    # Return the fitted model. \n",
    "    return model"
   ]
  },
  {
   "cell_type": "code",
   "execution_count": 28,
   "id": "28491ed8",
   "metadata": {},
   "outputs": [],
   "source": [
    "rf = RandomForestClassifier()\n",
    "mnb = MultinomialNB()\n",
    "#svm_model = svm.SVC()\n",
    "lr = LogisticRegression()\n",
    "\n",
    "models = [rf, mnb, lr]\n"
   ]
  },
  {
   "cell_type": "code",
   "execution_count": 40,
   "id": "2788bf4f",
   "metadata": {
    "scrolled": false
   },
   "outputs": [
    {
     "name": "stdout",
     "output_type": "stream",
     "text": [
      "Running report for model: RandomForestClassifier() and DF: Balanced df\n",
      "\n",
      "\n",
      "Accuracy 0.689835 for model:  RandomForestClassifier()\n",
      "              precision    recall  f1-score   support\n",
      "\n",
      "   happiness       0.75      0.80      0.77       724\n",
      "     neutral       0.68      0.76      0.72       803\n",
      "     sadness       0.60      0.46      0.52       588\n",
      "\n",
      "    accuracy                           0.69      2115\n",
      "   macro avg       0.68      0.67      0.67      2115\n",
      "weighted avg       0.68      0.69      0.68      2115\n",
      "\n",
      "Running report for model: MultinomialNB() and DF: Balanced df\n",
      "\n",
      "\n",
      "Accuracy 0.536170 for model:  MultinomialNB()\n",
      "              precision    recall  f1-score   support\n",
      "\n",
      "   happiness       0.63      0.59      0.61       724\n",
      "     neutral       0.58      0.50      0.54       803\n",
      "     sadness       0.41      0.52      0.46       588\n",
      "\n",
      "    accuracy                           0.54      2115\n",
      "   macro avg       0.54      0.54      0.53      2115\n",
      "weighted avg       0.55      0.54      0.54      2115\n",
      "\n",
      "Running report for model: LogisticRegression() and DF: Balanced df\n"
     ]
    },
    {
     "name": "stderr",
     "output_type": "stream",
     "text": [
      "C:\\Users\\Laptop\\anaconda3\\lib\\site-packages\\sklearn\\linear_model\\_logistic.py:763: ConvergenceWarning: lbfgs failed to converge (status=1):\n",
      "STOP: TOTAL NO. of ITERATIONS REACHED LIMIT.\n",
      "\n",
      "Increase the number of iterations (max_iter) or scale the data as shown in:\n",
      "    https://scikit-learn.org/stable/modules/preprocessing.html\n",
      "Please also refer to the documentation for alternative solver options:\n",
      "    https://scikit-learn.org/stable/modules/linear_model.html#logistic-regression\n",
      "  n_iter_i = _check_optimize_result(\n"
     ]
    },
    {
     "name": "stdout",
     "output_type": "stream",
     "text": [
      "\n",
      "\n",
      "Accuracy 0.745626 for model:  LogisticRegression()\n",
      "              precision    recall  f1-score   support\n",
      "\n",
      "   happiness       0.81      0.85      0.83       724\n",
      "     neutral       0.76      0.73      0.75       803\n",
      "     sadness       0.64      0.63      0.64       588\n",
      "\n",
      "    accuracy                           0.75      2115\n",
      "   macro avg       0.74      0.74      0.74      2115\n",
      "weighted avg       0.74      0.75      0.74      2115\n",
      "\n"
     ]
    },
    {
     "data": {
      "image/png": "[encoded data removed]",
      "text/plain": [
       "<Figure size 936x936 with 2 Axes>"
      ]
     },
     "metadata": {
      "needs_background": "light"
     },
     "output_type": "display_data"
    },
    {
     "data": {
      "image/png": "[encoded data removed]",
      "text/plain": [
       "<Figure size 936x936 with 2 Axes>"
      ]
     },
     "metadata": {
      "needs_background": "light"
     },
     "output_type": "display_data"
    },
    {
     "data": {
      "image/png": "[encoded data removed]",
      "text/plain": [
       "<Figure size 936x936 with 2 Axes>"
      ]
     },
     "metadata": {
      "needs_background": "light"
     },
     "output_type": "display_data"
    }
   ],
   "source": [
    "for model in models:\n",
    "    build_and_eval_model(model, balanced_df, \"Balanced df\")"
   ]
  },
  {
   "cell_type": "code",
   "execution_count": 41,
   "id": "bcd7fd0b",
   "metadata": {},
   "outputs": [
    {
     "name": "stdout",
     "output_type": "stream",
     "text": [
      "Running report for model: RandomForestClassifier() and DF: Happy vs Neutral DF\n",
      "\n",
      "\n",
      "Accuracy 0.870667 for model:  RandomForestClassifier()\n",
      "              precision    recall  f1-score   support\n",
      "\n",
      "   happiness       0.87      0.87      0.87       725\n",
      "     neutral       0.88      0.87      0.87       775\n",
      "\n",
      "    accuracy                           0.87      1500\n",
      "   macro avg       0.87      0.87      0.87      1500\n",
      "weighted avg       0.87      0.87      0.87      1500\n",
      "\n",
      "Running report for model: MultinomialNB() and DF: Happy vs Neutral DF\n",
      "\n",
      "\n",
      "Accuracy 0.778000 for model:  MultinomialNB()\n",
      "              precision    recall  f1-score   support\n",
      "\n",
      "   happiness       0.76      0.80      0.78       725\n",
      "     neutral       0.80      0.76      0.78       775\n",
      "\n",
      "    accuracy                           0.78      1500\n",
      "   macro avg       0.78      0.78      0.78      1500\n",
      "weighted avg       0.78      0.78      0.78      1500\n",
      "\n",
      "Running report for model: LogisticRegression() and DF: Happy vs Neutral DF\n"
     ]
    },
    {
     "name": "stderr",
     "output_type": "stream",
     "text": [
      "C:\\Users\\Laptop\\anaconda3\\lib\\site-packages\\sklearn\\linear_model\\_logistic.py:763: ConvergenceWarning: lbfgs failed to converge (status=1):\n",
      "STOP: TOTAL NO. of ITERATIONS REACHED LIMIT.\n",
      "\n",
      "Increase the number of iterations (max_iter) or scale the data as shown in:\n",
      "    https://scikit-learn.org/stable/modules/preprocessing.html\n",
      "Please also refer to the documentation for alternative solver options:\n",
      "    https://scikit-learn.org/stable/modules/linear_model.html#logistic-regression\n",
      "  n_iter_i = _check_optimize_result(\n"
     ]
    },
    {
     "name": "stdout",
     "output_type": "stream",
     "text": [
      "\n",
      "\n",
      "Accuracy 0.886000 for model:  LogisticRegression()\n",
      "              precision    recall  f1-score   support\n",
      "\n",
      "   happiness       0.87      0.90      0.88       725\n",
      "     neutral       0.90      0.87      0.89       775\n",
      "\n",
      "    accuracy                           0.89      1500\n",
      "   macro avg       0.89      0.89      0.89      1500\n",
      "weighted avg       0.89      0.89      0.89      1500\n",
      "\n"
     ]
    },
    {
     "data": {
      "image/png": "[encoded data removed]",
      "text/plain": [
       "<Figure size 936x936 with 2 Axes>"
      ]
     },
     "metadata": {
      "needs_background": "light"
     },
     "output_type": "display_data"
    },
    {
     "data": {
      "image/png": "[encoded data removed]",
      "text/plain": [
       "<Figure size 936x936 with 2 Axes>"
      ]
     },
     "metadata": {
      "needs_background": "light"
     },
     "output_type": "display_data"
    },
    {
     "data": {
      "image/png": "[encoded data removed]",
      "text/plain": [
       "<Figure size 936x936 with 2 Axes>"
      ]
     },
     "metadata": {
      "needs_background": "light"
     },
     "output_type": "display_data"
    }
   ],
   "source": [
    "for model in models:\n",
    "    build_and_eval_model(model, happy_neutral, \"Happy vs Neutral DF\")"
   ]
  },
  {
   "cell_type": "code",
   "execution_count": 42,
   "id": "fe5f7663",
   "metadata": {},
   "outputs": [
    {
     "name": "stdout",
     "output_type": "stream",
     "text": [
      "Running report for model: RandomForestClassifier() and DF: Happy vs Sad DF\n",
      "\n",
      "\n",
      "Accuracy 0.819780 for model:  RandomForestClassifier()\n",
      "              precision    recall  f1-score   support\n",
      "\n",
      "   happiness       0.83      0.84      0.84       759\n",
      "     sadness       0.80      0.79      0.80       606\n",
      "\n",
      "    accuracy                           0.82      1365\n",
      "   macro avg       0.82      0.82      0.82      1365\n",
      "weighted avg       0.82      0.82      0.82      1365\n",
      "\n",
      "Running report for model: MultinomialNB() and DF: Happy vs Sad DF\n",
      "\n",
      "\n",
      "Accuracy 0.702564 for model:  MultinomialNB()\n",
      "              precision    recall  f1-score   support\n",
      "\n",
      "   happiness       0.75      0.70      0.72       759\n",
      "     sadness       0.65      0.71      0.68       606\n",
      "\n",
      "    accuracy                           0.70      1365\n",
      "   macro avg       0.70      0.70      0.70      1365\n",
      "weighted avg       0.71      0.70      0.70      1365\n",
      "\n",
      "Running report for model: LogisticRegression() and DF: Happy vs Sad DF\n"
     ]
    },
    {
     "name": "stderr",
     "output_type": "stream",
     "text": [
      "C:\\Users\\Laptop\\anaconda3\\lib\\site-packages\\sklearn\\linear_model\\_logistic.py:763: ConvergenceWarning: lbfgs failed to converge (status=1):\n",
      "STOP: TOTAL NO. of ITERATIONS REACHED LIMIT.\n",
      "\n",
      "Increase the number of iterations (max_iter) or scale the data as shown in:\n",
      "    https://scikit-learn.org/stable/modules/preprocessing.html\n",
      "Please also refer to the documentation for alternative solver options:\n",
      "    https://scikit-learn.org/stable/modules/linear_model.html#logistic-regression\n",
      "  n_iter_i = _check_optimize_result(\n"
     ]
    },
    {
     "name": "stdout",
     "output_type": "stream",
     "text": [
      "\n",
      "\n",
      "Accuracy 0.851282 for model:  LogisticRegression()\n",
      "              precision    recall  f1-score   support\n",
      "\n",
      "   happiness       0.86      0.87      0.87       759\n",
      "     sadness       0.84      0.82      0.83       606\n",
      "\n",
      "    accuracy                           0.85      1365\n",
      "   macro avg       0.85      0.85      0.85      1365\n",
      "weighted avg       0.85      0.85      0.85      1365\n",
      "\n"
     ]
    },
    {
     "data": {
      "image/png": "[encoded data removed]",
      "text/plain": [
       "<Figure size 936x936 with 2 Axes>"
      ]
     },
     "metadata": {
      "needs_background": "light"
     },
     "output_type": "display_data"
    },
    {
     "data": {
      "image/png": "[encoded data removed]",
      "text/plain": [
       "<Figure size 936x936 with 2 Axes>"
      ]
     },
     "metadata": {
      "needs_background": "light"
     },
     "output_type": "display_data"
    },
    {
     "data": {
      "image/png": "[encoded data removed]",
      "text/plain": [
       "<Figure size 936x936 with 2 Axes>"
      ]
     },
     "metadata": {
      "needs_background": "light"
     },
     "output_type": "display_data"
    }
   ],
   "source": [
    "for model in models:\n",
    "    build_and_eval_model(model, happy_sad, \"Happy vs Sad DF\")"
   ]
  },
  {
   "cell_type": "code",
   "execution_count": null,
   "id": "6985b6f3",
   "metadata": {},
   "outputs": [],
   "source": []
  },
  {
   "cell_type": "code",
   "execution_count": null,
   "id": "e7728b92",
   "metadata": {},
   "outputs": [],
   "source": [
    "#DOESNT WORK\n",
    "\n",
    "svm = svm.SVC()\n",
    "build_and_eval_model(svm, X, y)\n"
   ]
  },
  {
   "cell_type": "code",
   "execution_count": 50,
   "id": "e3cfeee7",
   "metadata": {},
   "outputs": [
    {
     "name": "stdout",
     "output_type": "stream",
     "text": [
      "2.7.0\n"
     ]
    }
   ],
   "source": [
    "# TensorFlow and tf.keras\n",
    "#!pip install tensorflow\n",
    "import tensorflow as tf\n",
    "from tensorflow import keras\n",
    "# Layers for our neural networks\n",
    "from tensorflow.keras.layers import Conv2D, MaxPooling2D, Dropout, Flatten, Dense\n",
    "# A pretrained model for transfer learning\n",
    "from keras.models import Model\n",
    "from keras.applications import vgg19\n",
    "\n",
    "# Our normal python data science stack you've come to know and love\n",
    "import numpy as np\n",
    "import os\n",
    "import sys\n",
    "import matplotlib.pyplot as plt\n",
    "import pandas as pd\n",
    "import seaborn as sns\n",
    "from sklearn.model_selection import train_test_split\n",
    "from sklearn import datasets\n",
    "\n",
    "print(tf.__version__)"
   ]
  },
  {
   "cell_type": "code",
   "execution_count": 55,
   "id": "657139bc",
   "metadata": {},
   "outputs": [
    {
     "ename": "AttributeError",
     "evalue": "'DataFrame' object has no attribute 'reshape'",
     "output_type": "error",
     "traceback": [
      "\u001b[1;31m---------------------------------------------------------------------------\u001b[0m",
      "\u001b[1;31mAttributeError\u001b[0m                            Traceback (most recent call last)",
      "\u001b[1;32m~\\AppData\\Local\\Temp/ipykernel_6372/2439840542.py\u001b[0m in \u001b[0;36m<module>\u001b[1;34m\u001b[0m\n\u001b[0;32m     17\u001b[0m \u001b[0mcnn_x_test\u001b[0m \u001b[1;33m=\u001b[0m \u001b[0mcnn_x_test\u001b[0m \u001b[1;33m/\u001b[0m \u001b[1;36m255\u001b[0m\u001b[1;33m\u001b[0m\u001b[1;33m\u001b[0m\u001b[0m\n\u001b[0;32m     18\u001b[0m \u001b[1;33m\u001b[0m\u001b[0m\n\u001b[1;32m---> 19\u001b[1;33m \u001b[0mcnn_x_train\u001b[0m \u001b[1;33m=\u001b[0m \u001b[0mcnn_x_train\u001b[0m\u001b[1;33m.\u001b[0m\u001b[0mreshape\u001b[0m\u001b[1;33m(\u001b[0m\u001b[1;33m-\u001b[0m\u001b[1;36m1\u001b[0m\u001b[1;33m,\u001b[0m \u001b[1;36m100\u001b[0m\u001b[1;33m,\u001b[0m \u001b[1;36m100\u001b[0m\u001b[1;33m,\u001b[0m \u001b[1;36m1\u001b[0m\u001b[1;33m)\u001b[0m\u001b[1;33m\u001b[0m\u001b[1;33m\u001b[0m\u001b[0m\n\u001b[0m\u001b[0;32m     20\u001b[0m \u001b[0mcnn_y_train\u001b[0m \u001b[1;33m=\u001b[0m \u001b[0mcnn_y_train\u001b[0m\u001b[1;33m.\u001b[0m\u001b[0mreshape\u001b[0m\u001b[1;33m(\u001b[0m\u001b[1;33m-\u001b[0m\u001b[1;36m1\u001b[0m\u001b[1;33m)\u001b[0m\u001b[1;33m\u001b[0m\u001b[1;33m\u001b[0m\u001b[0m\n\u001b[0;32m     21\u001b[0m \u001b[1;33m\u001b[0m\u001b[0m\n",
      "\u001b[1;32m~\\anaconda3\\lib\\site-packages\\pandas\\core\\generic.py\u001b[0m in \u001b[0;36m__getattr__\u001b[1;34m(self, name)\u001b[0m\n\u001b[0;32m   5485\u001b[0m         ):\n\u001b[0;32m   5486\u001b[0m             \u001b[1;32mreturn\u001b[0m \u001b[0mself\u001b[0m\u001b[1;33m[\u001b[0m\u001b[0mname\u001b[0m\u001b[1;33m]\u001b[0m\u001b[1;33m\u001b[0m\u001b[1;33m\u001b[0m\u001b[0m\n\u001b[1;32m-> 5487\u001b[1;33m         \u001b[1;32mreturn\u001b[0m \u001b[0mobject\u001b[0m\u001b[1;33m.\u001b[0m\u001b[0m__getattribute__\u001b[0m\u001b[1;33m(\u001b[0m\u001b[0mself\u001b[0m\u001b[1;33m,\u001b[0m \u001b[0mname\u001b[0m\u001b[1;33m)\u001b[0m\u001b[1;33m\u001b[0m\u001b[1;33m\u001b[0m\u001b[0m\n\u001b[0m\u001b[0;32m   5488\u001b[0m \u001b[1;33m\u001b[0m\u001b[0m\n\u001b[0;32m   5489\u001b[0m     \u001b[1;32mdef\u001b[0m \u001b[0m__setattr__\u001b[0m\u001b[1;33m(\u001b[0m\u001b[0mself\u001b[0m\u001b[1;33m,\u001b[0m \u001b[0mname\u001b[0m\u001b[1;33m:\u001b[0m \u001b[0mstr\u001b[0m\u001b[1;33m,\u001b[0m \u001b[0mvalue\u001b[0m\u001b[1;33m)\u001b[0m \u001b[1;33m->\u001b[0m \u001b[1;32mNone\u001b[0m\u001b[1;33m:\u001b[0m\u001b[1;33m\u001b[0m\u001b[1;33m\u001b[0m\u001b[0m\n",
      "\u001b[1;31mAttributeError\u001b[0m: 'DataFrame' object has no attribute 'reshape'"
     ]
    }
   ],
   "source": [
    "cnn_df = happy_sad\n",
    "len(cnn_df)\n",
    "selected_features = cnn_df.columns\n",
    "selected_features = list(selected_features) \n",
    "\n",
    "    \n",
    "selected_features.remove('expressions')\n",
    "\n",
    "    \n",
    "cnn_x = cnn_df[selected_features]\n",
    "cnn_y = cnn_df['expressions']\n",
    "    \n",
    "cnn_x_train, cnn_x_test, cnn_y_train, cnn_y_test = train_test_split(cnn_x, cnn_y, test_size=0.25, random_state= 43)    \n",
    "    \n",
    "# divide the values by 255 and reshape \n",
    "cnn_x_train = cnn_x_train / 255\n",
    "cnn_x_test = cnn_x_test / 255\n",
    "\n",
    "cnn_x_train = cnn_x_train.reshape(-1, 100, 100, 1)\n",
    "cnn_y_train = cnn_y_train.reshape(-1)\n",
    "\n",
    "cnn_x_test = cnn_x_test.reshape(-1, 100, 100, 1)\n",
    "cnn_y_test = cnn_y_test.reshape(-1)  "
   ]
  },
  {
   "cell_type": "code",
   "execution_count": null,
   "id": "1404361a",
   "metadata": {},
   "outputs": [],
   "source": [
    "\n",
    "\n",
    "\n",
    "model = tf.keras.models.Sequential()\n",
    "\n",
    "model.add(tf.keras.layers.Conv2D(input_shape=(100,100, 1),filters=100,kernel_size=(3,3), strides=(1,1), activation=\"relu\"))\n",
    "model.add(tf.keras.layers.Conv2D(filters=100,kernel_size=(3,3), strides=(1,1), activation=\"relu\"))\n",
    "model.add(tf.keras.layers.MaxPool2D(2, 2))\n",
    "\n",
    "model.add(tf.keras.layers.Conv2D(filters=100,kernel_size=(3,3), strides=(1,1), activation=\"relu\"))\n",
    "model.add(tf.keras.layers.Conv2D(filters=100,kernel_size=(3,3), strides=(1,1), activation=\"relu\"))\n",
    "model.add(tf.keras.layers.MaxPool2D(2, 2))\n",
    "\n",
    "\n",
    "model.add(tf.keras.layers.Flatten())\n",
    "\n",
    "model.add(tf.keras.layers.Dense(10000, activation='relu'))\n",
    "model.add(tf.keras.layers.Dense(5000, activation='relu'))\n",
    "model.add(tf.keras.layers.Dense(1000, activation='relu'))\n",
    "model.add(tf.keras.layers.Dense(500, activation='relu'))\n",
    "model.add(tf.keras.layers.Dense(100, activation='relu'))\n",
    "model.add(tf.keras.layers.Dense(2, activation='softmax'))"
   ]
  },
  {
   "cell_type": "code",
   "execution_count": null,
   "id": "b7a6f0f7",
   "metadata": {},
   "outputs": [],
   "source": [
    "# compile your model\n",
    "\n",
    "model.compile(optimizer=tf.keras.optimizers.Adam(), loss='sparse_categorical_crossentropy', metrics=['acc'])"
   ]
  },
  {
   "cell_type": "code",
   "execution_count": null,
   "id": "489fcb84",
   "metadata": {},
   "outputs": [],
   "source": [
    "# fit your model\n",
    "\n",
    "epochs = 6\n",
    "model.fit(cnn_x_train, cnn_y_train, epochs=epochs, validation_split=0.2)\n"
   ]
  },
  {
   "cell_type": "code",
   "execution_count": null,
   "id": "fb05f9af",
   "metadata": {},
   "outputs": [],
   "source": [
    "# evaluate your results\n",
    "\n",
    "model.evaluate(cnn_x_test, cnn_y_test)"
   ]
  },
  {
   "cell_type": "code",
   "execution_count": null,
   "id": "08e0f66a",
   "metadata": {},
   "outputs": [],
   "source": []
  },
  {
   "cell_type": "code",
   "execution_count": null,
   "id": "6655a72a",
   "metadata": {},
   "outputs": [],
   "source": [
    "# extra features from mathlab files \n",
    "\n",
    "HOG = scipy.io.loadmat('HOG.mat') \n",
    "DLP_CNN = scipy.io.loadmat('DLP-CNN.mat')\n",
    "baseDCNN = scipy.io.loadmat('baseDCNN.mat')\n",
    "Gabor = scipy.io.loadmat('Gabor.mat') \n",
    "\n",
    "\n",
    "Gabor_train = pd.DataFrame(Gabor['GAB_train'])\n",
    "Gabor_train\n",
    "\n",
    "Gabor_test = pd.DataFrame(Gabor['GAB_test'])\n",
    "Gabor_test\n",
    "\n",
    "baseDCNN_train = pd.DataFrame(baseDCNN['baseDCNN_train'])\n",
    "baseDCNN_train\n",
    "\n",
    "baseDCNN_test = pd.DataFrame(baseDCNN['baseDCNN_test'])\n",
    "baseDCNN_tes\n",
    "\n",
    "HOG_train = pd.DataFrame(HOG['HOG_train'])\n",
    "HOG_train\n",
    "\n",
    "HOG_test = pd.DataFrame(HOG['HOG_test'])\n",
    "HOG_test\n",
    "\n",
    "DLP_CNN_train = pd.DataFrame(DLP_CNN['DLP_train'])\n",
    "DLP_CNN_train\n",
    "\n",
    "DLP_CNN_test = pd.DataFrame(DLP_CNN['DLP_test'])\n",
    "DLP_CNN_test\n",
    "\n"
   ]
  },
  {
   "cell_type": "code",
   "execution_count": null,
   "id": "ecbccf44",
   "metadata": {},
   "outputs": [],
   "source": []
  },
  {
   "cell_type": "code",
   "execution_count": null,
   "id": "143c86fb",
   "metadata": {},
   "outputs": [],
   "source": []
  },
  {
   "cell_type": "code",
   "execution_count": null,
   "id": "a97b48d4",
   "metadata": {},
   "outputs": [],
   "source": []
  },
  {
   "cell_type": "code",
   "execution_count": null,
   "id": "a2bf9a8a",
   "metadata": {},
   "outputs": [],
   "source": []
  },
  {
   "cell_type": "code",
   "execution_count": null,
   "id": "5a6287e3",
   "metadata": {},
   "outputs": [],
   "source": []
  }
 ],
 "metadata": {
  "kernelspec": {
   "display_name": "Python 3 (ipykernel)",
   "language": "python",
   "name": "python3"
  },
  "language_info": {
   "codemirror_mode": {
    "name": "ipython",
    "version": 3
   },
   "file_extension": ".py",
   "mimetype": "text/x-python",
   "name": "python",
   "nbconvert_exporter": "python",
   "pygments_lexer": "ipython3",
   "version": "3.9.7"
  }
 },
 "nbformat": 4,
 "nbformat_minor": 5
}
