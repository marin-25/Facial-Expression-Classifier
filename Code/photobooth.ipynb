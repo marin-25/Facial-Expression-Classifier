{
 "cells": [
  {
   "cell_type": "markdown",
   "id": "e40699d2",
   "metadata": {},
   "source": [
    "## Photobooth + Face Detector "
   ]
  },
  {
   "cell_type": "code",
   "execution_count": 2,
   "id": "ce4195e9",
   "metadata": {},
   "outputs": [],
   "source": [
    "import cv2"
   ]
  },
  {
   "cell_type": "code",
   "execution_count": null,
   "id": "3394bee9",
   "metadata": {},
   "outputs": [],
   "source": [
    "\n",
    "cam = cv2.VideoCapture(0)\n",
    "\n",
    "cv2.namedWindow(\"test\")\n",
    "\n",
    "img_counter = 0\n",
    "\n",
    "while True:\n",
    "    ret, frame = cam.read()\n",
    "    if not ret:\n",
    "        print(\"failed to grab frame\")\n",
    "        break\n",
    "    cv2.imshow(\"test\", frame)\n",
    "\n",
    "    k = cv2.waitKey(1)\n",
    "    if k%256 == 27:\n",
    "        # ESC pressed\n",
    "        print(\"Escape hit, closing...\")\n",
    "        break\n",
    "    elif k%256 == 32:\n",
    "        # SPACE pressed\n",
    "        img_name = \"opencv_frame_{}.png\".format(img_counter)\n",
    "        cv2.imwrite(img_name, frame)\n",
    "        print(\"{} written!\".format(img_name))\n",
    "        img_counter += 1\n",
    "\n",
    "cam.release()\n",
    "\n",
    "cv2.destroyAllWindows()"
   ]
  },
  {
   "cell_type": "code",
   "execution_count": null,
   "id": "cb2e2dc6",
   "metadata": {},
   "outputs": [],
   "source": [
    "!pip install cmake\n",
    "!pip install dlib"
   ]
  },
  {
   "cell_type": "code",
   "execution_count": null,
   "id": "4889d30b",
   "metadata": {},
   "outputs": [],
   "source": [
    "\n",
    "import dlib\n",
    "from PIL import Image\n",
    "from skimage import io\n",
    "import matplotlib.pyplot as plt\n",
    "\n",
    "\n",
    "def detect_faces(image):\n",
    "\n",
    "    # Create a face detector\n",
    "    face_detector = dlib.get_frontal_face_detector()\n",
    "\n",
    "    # Run detector and get bounding boxes of the faces on image.\n",
    "    detected_faces = face_detector(image, 1)\n",
    "    face_frames = [(x.left(), x.top(),\n",
    "                    x.right(), x.bottom()) for x in detected_faces]\n",
    "\n",
    "    return face_frames\n",
    "\n",
    "\n",
    "def facelist(path):\n",
    "    \n",
    "    # Load image\n",
    "    img_path = path\n",
    "    image = io.imread(img_path)\n",
    "\n",
    "    # Detect faces\n",
    "    detected_faces = detect_faces(image)\n",
    "\n",
    "    #create a list of n faces to store \n",
    "    list_of_faces =[]\n",
    "\n",
    "    # Crop faces and plot and resize \n",
    "    newsize = (100,100)\n",
    "    for n, face_rect in enumerate(detected_faces):\n",
    "        face = Image.fromarray(image).crop(face_rect)\n",
    "    \n",
    "        #plt.subplot(1, len(detected_faces), n+1)\n",
    "        #plt.axis('off')\n",
    "        #plt.imshow(face)\n",
    "        list_of_faces.append(face.resize(newsize))\n",
    "    return list_of_faces"
   ]
  },
  {
   "cell_type": "code",
   "execution_count": 28,
   "id": "343cde1b",
   "metadata": {},
   "outputs": [
    {
     "data": {
      "image/png": "[encoded data removed]",
      "text/plain": [
       "<PIL.Image.Image image mode=RGB size=100x100 at 0x7FD5A813BC40>"
      ]
     },
     "execution_count": 28,
     "metadata": {},
     "output_type": "execute_result"
    }
   ],
   "source": [
    "list_of_faces2 = facelist('https://raw.githubusercontent.com/marin-25/Facial-Expression-Classifier/9506adf66d0a9f7f308f75025f4a3add506d5411/Faces/fakerealpeople.JPG')\n",
    "\n",
    "list_of_faces2[0]"
   ]
  },
  {
   "cell_type": "code",
   "execution_count": null,
   "id": "b76a7884",
   "metadata": {},
   "outputs": [],
   "source": [
    "vvv"
   ]
  }
 ],
 "metadata": {
  "kernelspec": {
   "display_name": "Python 3",
   "language": "python",
   "name": "python3"
  },
  "language_info": {
   "codemirror_mode": {
    "name": "ipython",
    "version": 3
   },
   "file_extension": ".py",
   "mimetype": "text/x-python",
   "name": "python",
   "nbconvert_exporter": "python",
   "pygments_lexer": "ipython3",
   "version": "3.8.8"
  }
 },
 "nbformat": 4,
 "nbformat_minor": 5
}
